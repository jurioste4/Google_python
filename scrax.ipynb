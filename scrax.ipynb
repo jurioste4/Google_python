{
 "cells": [
  {
   "cell_type": "code",
   "execution_count": 1,
   "metadata": {},
   "outputs": [
    {
     "name": "stdout",
     "output_type": "stream",
     "text": [
      "1 2 3 4 5 6 "
     ]
    }
   ],
   "source": [
    "number = 1\n",
    "while  number < 7:\n",
    "\tprint(number, end=\" \")\n",
    "\tnumber = number  +1"
   ]
  },
  {
   "cell_type": "code",
   "execution_count": null,
   "metadata": {},
   "outputs": [],
   "source": []
  },
  {
   "cell_type": "code",
   "execution_count": null,
   "metadata": {},
   "outputs": [],
   "source": [
    "#while loop\n",
    " \n",
    "x = 0 # first  line called initializing : give  value to a variable \n",
    "while x < 5:\n",
    "    print(\"Not there yet, x=\" + str(x))\n",
    "    x = x +1\n",
    "print(\"x=\" + str(x))\n",
    " "
   ]
  },
  {
   "cell_type": "code",
   "execution_count": 3,
   "metadata": {},
   "outputs": [
    {
     "name": "stdout",
     "output_type": "stream",
     "text": [
      "2\n",
      "3\n",
      "4\n",
      "1\n"
     ]
    }
   ],
   "source": [
    "def digits(n):\n",
    "   count = 0\n",
    "   if n == 0:\n",
    "      return 1\n",
    "   while (n > 0):\n",
    "      count += 1\n",
    "      n = n//10\n",
    "   return count\n",
    "\t\n",
    "\n",
    "\t\n",
    "print(digits(25))   # Should print 2\n",
    "print(digits(144))  # Should print 3\n",
    "print(digits(1000)) # Should print 4\n",
    "print(digits(0))    # Should print 1"
   ]
  },
  {
   "cell_type": "code",
   "execution_count": 4,
   "metadata": {},
   "outputs": [
    {
     "name": "stdout",
     "output_type": "stream",
     "text": [
      "1 2 3 \n",
      "2 4 6 \n",
      "3 6 9 \n"
     ]
    }
   ],
   "source": [
    "def multiplication_table(start, stop):\n",
    "\tfor x in range(start ,stop+1):\n",
    "\t\tfor y in range(start ,stop+1):\n",
    "\t\t\tprint(str(x*y), end=\" \")\n",
    "\t\tprint()\n",
    "\n",
    "multiplication_table(1, 3)\n",
    "# Should print the multiplication table shown above"
   ]
  },
  {
   "cell_type": "code",
   "execution_count": 5,
   "metadata": {},
   "outputs": [
    {
     "name": "stdout",
     "output_type": "stream",
     "text": [
      "Counting up: 1,2,3,4,5,6,7,8,9,10\n",
      "Counting down: 2,1\n",
      "Counting up: 5\n"
     ]
    }
   ],
   "source": [
    "def counter(start, stop):\n",
    "\tx = start\n",
    "\tif x>stop:\n",
    "\t\treturn_string = \"Counting down: \"\n",
    "\t\twhile x >= stop:\n",
    "\t\t\treturn_string += str(x)\n",
    "\t\t\tif x>stop:\n",
    "\t\t\t\treturn_string += \",\"\n",
    "\t\t\tx = x -1\n",
    "\telse:\n",
    "\t\treturn_string = \"Counting up: \"\n",
    "\t\twhile x <= stop:\n",
    "\t\t\treturn_string += str(x)\n",
    "\t\t\tif x<stop:\n",
    "\t\t\t\treturn_string += \",\"\n",
    "\t\t\tx = x + 1\n",
    "\treturn return_string\n",
    "\n",
    "print(counter(1, 10)) # Should be \"Counting up: 1,2,3,4,5,6,7,8,9,10\"\n",
    "print(counter(2, 1)) # Should be \"Counting down: 2,1\"\n",
    "print(counter(5, 5)) # Should be \"Counting up: 5\""
   ]
  },
  {
   "cell_type": "code",
   "execution_count": 7,
   "metadata": {},
   "outputs": [
    {
     "ename": "TypeError",
     "evalue": "decade_counter() takes 0 positional arguments but 1 was given",
     "output_type": "error",
     "traceback": [
      "\u001b[0;31m---------------------------------------------------------------------------\u001b[0m",
      "\u001b[0;31mTypeError\u001b[0m                                 Traceback (most recent call last)",
      "\u001b[1;32m/home/jurioste2/Desktop/Programming/google_python/scrax.ipynb Cell 7'\u001b[0m in \u001b[0;36m<cell line: 7>\u001b[0;34m()\u001b[0m\n\u001b[1;32m      <a href='vscode-notebook-cell:/home/jurioste2/Desktop/Programming/google_python/scrax.ipynb#ch0000006?line=2'>3</a>\u001b[0m \t\tyear \u001b[39m+\u001b[39m\u001b[39m=\u001b[39m \u001b[39m10\u001b[39m\n\u001b[1;32m      <a href='vscode-notebook-cell:/home/jurioste2/Desktop/Programming/google_python/scrax.ipynb#ch0000006?line=3'>4</a>\u001b[0m \t\u001b[39mreturn\u001b[39;00m year\n\u001b[0;32m----> <a href='vscode-notebook-cell:/home/jurioste2/Desktop/Programming/google_python/scrax.ipynb#ch0000006?line=6'>7</a>\u001b[0m \u001b[39mprint\u001b[39m(decade_counter(\u001b[39m2000\u001b[39;49m))\n",
      "\u001b[0;31mTypeError\u001b[0m: decade_counter() takes 0 positional arguments but 1 was given"
     ]
    }
   ],
   "source": [
    "def decade_counter():\n",
    "\twhile year < 50:\n",
    "\t\tyear += 10\n",
    "\treturn year\n",
    "\n",
    "\n",
    "print(decade_counter(2000))"
   ]
  },
  {
   "cell_type": "code",
   "execution_count": 8,
   "metadata": {},
   "outputs": [
    {
     "name": "stdout",
     "output_type": "stream",
     "text": [
      "1\n",
      "4\n",
      "7\n"
     ]
    }
   ],
   "source": [
    "for x in range(1, 10, 3):\n",
    "    print(x)"
   ]
  },
  {
   "cell_type": "code",
   "execution_count": 9,
   "metadata": {},
   "outputs": [
    {
     "name": "stdout",
     "output_type": "stream",
     "text": [
      "0\n",
      "0\n",
      "1\n",
      "0\n",
      "1\n",
      "2\n",
      "0\n",
      "1\n",
      "2\n",
      "3\n",
      "0\n",
      "1\n",
      "2\n",
      "3\n",
      "4\n",
      "0\n",
      "1\n",
      "2\n",
      "3\n",
      "4\n",
      "5\n",
      "0\n",
      "1\n",
      "2\n",
      "3\n",
      "4\n",
      "5\n",
      "6\n",
      "0\n",
      "1\n",
      "2\n",
      "3\n",
      "4\n",
      "5\n",
      "6\n",
      "7\n",
      "0\n",
      "1\n",
      "2\n",
      "3\n",
      "4\n",
      "5\n",
      "6\n",
      "7\n",
      "8\n"
     ]
    }
   ],
   "source": [
    "for x in range(10):\n",
    "    for y in range(x):\n",
    "        print(y)"
   ]
  },
  {
   "cell_type": "code",
   "execution_count": 10,
   "metadata": {},
   "outputs": [],
   "source": [
    "def votes(params):\n",
    "\tfor vote in params:\n",
    "\t    print(\"Possible option:\" + vote)\n"
   ]
  },
  {
   "cell_type": "code",
   "execution_count": 15,
   "metadata": {},
   "outputs": [
    {
     "name": "stdout",
     "output_type": "stream",
     "text": [
      "Possible option:yes\n",
      "Possible option:no\n",
      "Possible option:maybe\n",
      "None\n"
     ]
    }
   ],
   "source": [
    "print(votes(['yes', 'no', 'maybe']))"
   ]
  }
 ],
 "metadata": {
  "interpreter": {
   "hash": "8656f5031db70faff7aded3bdfe4dbd6e4f3294b56caa8318c028c2777d29a21"
  },
  "kernelspec": {
   "display_name": "Python 3.8.8 ('base')",
   "language": "python",
   "name": "python3"
  },
  "language_info": {
   "codemirror_mode": {
    "name": "ipython",
    "version": 3
   },
   "file_extension": ".py",
   "mimetype": "text/x-python",
   "name": "python",
   "nbconvert_exporter": "python",
   "pygments_lexer": "ipython3",
   "version": "3.8.12"
  },
  "orig_nbformat": 4
 },
 "nbformat": 4,
 "nbformat_minor": 2
}

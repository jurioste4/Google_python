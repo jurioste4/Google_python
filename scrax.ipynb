{
 "cells": [
  {
   "cell_type": "code",
   "execution_count": 2,
   "metadata": {},
   "outputs": [
    {
     "name": "stdout",
     "output_type": "stream",
     "text": [
      "True\n",
      "False\n",
      "True\n"
     ]
    }
   ],
   "source": [
    "def is_palindrome(input_string):\n",
    "    # We'll create two strings, to compare them\n",
    "    new_string = \"\"\n",
    "    reverse_string = \"\"\n",
    "    # Traverse through each letter of the input string\n",
    "    for letter in input_string.strip():\n",
    "        # Add any non-blank letters to the\n",
    "        # end of one string, and to the front\n",
    "        # of the other string.\n",
    "        new_string = new_string+letter.replace(\" \", \"\")\n",
    "        reverse_string = letter.replace(\" \", \"\")+reverse_string\n",
    "    # Compare the strings\n",
    "    if new_string.lower() == reverse_string.lower():\n",
    "        return True\n",
    "    return False\n",
    "\n",
    "\n",
    "print(is_palindrome(\"Never Odd or Even\"))  # Should be True\n",
    "print(is_palindrome(\"abc\"))  # Should be False\n",
    "print(is_palindrome(\"kayak\"))  # Should be True\n"
   ]
  },
  {
   "cell_type": "code",
   "execution_count": 6,
   "metadata": {},
   "outputs": [
    {
     "name": "stdout",
     "output_type": "stream",
     "text": [
      "12 miles equals 19.2 km\n",
      "5.5 miles equals 8.8 km\n",
      "11 miles equals 17.6 km\n"
     ]
    }
   ],
   "source": [
    "def convert_distance(miles):\n",
    "\tkm = miles * 1.6 \n",
    "\tresult = \"{} miles equals {:.1f} km\".format(miles, km)\n",
    "\treturn result\n",
    "\n",
    "print(convert_distance(12)) # Should be: 12 miles equals 19.2 km\n",
    "print(convert_distance(5.5)) # Should be: 5.5 miles equals 8.8 km\n",
    "print(convert_distance(11)) # Should be: 11 miles equals 17.6 km"
   ]
  },
  {
   "cell_type": "code",
   "execution_count": null,
   "metadata": {},
   "outputs": [],
   "source": [
    "2\n",
    "\n",
    "def nametag(first_name, last_name):\n",
    "    return '{} {}.'.format(first_name, last_name[0])"
   ]
  },
  {
   "cell_type": "code",
   "execution_count": 7,
   "metadata": {},
   "outputs": [
    {
     "name": "stdout",
     "output_type": "stream",
     "text": [
      "Jane S.\n",
      "Francesco R.\n",
      "Jean-Luc G.\n"
     ]
    }
   ],
   "source": [
    "def nametag(first_name, last_name):\n",
    "\treturn(\"{} {}.\".format(first_name, last_name[0]))\n",
    "\n",
    "print(nametag(\"Jane\", \"Smith\")) \n",
    "# Should display \"Jane S.\" \n",
    "print(nametag(\"Francesco\", \"Rinaldi\")) \n",
    "# Should display \"Francesco R.\" \n",
    "print(nametag(\"Jean-Luc\", \"Grand-Pierre\")) \n",
    "# Should display \"Jean-Luc G.\" "
   ]
  }
 ],
 "metadata": {
  "interpreter": {
   "hash": "8656f5031db70faff7aded3bdfe4dbd6e4f3294b56caa8318c028c2777d29a21"
  },
  "kernelspec": {
   "display_name": "Python 3.8.8 ('base')",
   "language": "python",
   "name": "python3"
  },
  "language_info": {
   "codemirror_mode": {
    "name": "ipython",
    "version": 3
   },
   "file_extension": ".py",
   "mimetype": "text/x-python",
   "name": "python",
   "nbconvert_exporter": "python",
   "pygments_lexer": "ipython3",
   "version": "3.8.12"
  },
  "orig_nbformat": 4
 },
 "nbformat": 4,
 "nbformat_minor": 2
}

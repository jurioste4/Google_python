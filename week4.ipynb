{
 "cells": [
  {
   "cell_type": "markdown",
   "metadata": {},
   "source": [
    "### More About Managing Resources\n",
    "\n",
    "Check out the following links for more information:\n",
    "\n",
    "    https://realpython.com/python-concurrency/\n",
    "\n",
    "    https://hackernoon.com/threaded-asynchronous-magic-and-how-to-wield-it-bba9ed602c32\n",
    "\n",
    "    https://www.pluralsight.com/blog/tutorials/how-to-profile-memory-usage-in-python\n",
    "\n",
    "    https://www.linuxjournal.com/content/troubleshooting-network-problems"
   ]
  },
  {
   "cell_type": "markdown",
   "metadata": {},
   "source": []
  },
  {
   "cell_type": "markdown",
   "metadata": {},
   "source": [
    "#### Managing Resources "
   ]
  },
  {
   "cell_type": "markdown",
   "metadata": {},
   "source": [
    "##### Memory Leak and how to Prevent Them\n",
    "\n",
    "Memory Leak: \n",
    "\n",
    "A chunk of memory that  is no longer needed is not released. \n",
    "\n",
    "\n",
    "can use a : \n",
    "\n",
    "Garbage Collector : \n",
    "\n",
    "In charge of freeing the memory that is no longer in use . \n",
    "\n",
    "\n",
    "Use a profiler to figure out how the memory is being used :  \n",
    "\n",
    "C and C++  use : valgrind : \n",
    "\n",
    "for python  there is a log that can be used . depending on what needs to be profiled. "
   ]
  },
  {
   "cell_type": "markdown",
   "metadata": {},
   "source": [
    "#### More About Preventing Future Breakage\n",
    "\n",
    "Preventing future breakage is a bit of a dynamic subject. Probably the most useful techniques here are identifying, isolating, and managing problem domains and failure domains. \n",
    "\n",
    "Problem Domains just describe the complexity of a given problem that one is trying to solve. Let’s look at an example below:\n",
    "\n",
    "For example: counting the number of occurrences of a specific word in one of Shakespeare’s plays, like Hamlet. This is an indexing problem. And its problem domain is fairly limited in scope. It’s a single word, and a single play. A bit of BASH could easily solve this problem. So the problem domain is small, and the technical solution is fairly simple.\n",
    "\n",
    "However, if the scope is widened slightly to include all of Shakespeare’s plays, the problem domain becomes larger. Any software solution used to try and solve this indexing problem has to now handle various logic that it did not have to handle before, like consolidating word occurrences in various plays. I.e. the word ‘Brevity’ may occur at least once in Hamlet, and N number of times in various other plays. Managing N occurrences of ‘Brevity’ over M works of Shakespeare is an order of magnitude more complex in terms of describing the problem domain. A bit of BASH could solve this problem, but it might be difficult.\n",
    "\n",
    "If the problem becomes slightly more complex, such as finding the occurrences of various synonyms to a given word, then the problem domain becomes equally large. Managing original words, their synonyms, and their hit-count across multiple works of Shakespeare is even MORE complex.\n",
    "\n",
    "So why is any of this useful? Well, if one can easily describe and reason about a problem in a lot of detail, they understand the Problem Domain fairly well. Producing a software solution for a given problem becomes easier when the Software Engineer understands the problem domain fairly well. Of course, building a good understanding of the Problem Domain often requires a lot of experimentation, and iteration. This is why it’s good to make a few initial attempts at testing a design before building an entire Production system to solve a problem like indexing Shakespeare.\n",
    "Failure Domains\n",
    "\n",
    "Like problem domains, failure domains just describe the complexity of a system. Except, instead of describing the various problems a system tries to solve, failure domains describe various sub-systems which may fail. Using the Shakespeare example again, if one of your systems is responsible for managing the full text of the works of Shakespeare (a content server), that might be a single failure domain. If another system is responsible for actually searching that content and counting the words (an indexer), that is a separate failure domain. Some failure domains can be within other failure domains. For example, if an indexer fails, the content server may not fail. But if a content server fails, the indexer will probably also fail.\n",
    "\n",
    "So why do we care about any of this? Well, Problem Domains drive system complexity. Complex systems often have many failure domains. The key to preventing future breakage is to identify, and manage the scope and severity of a failure domain. This may mean redesigning the system in a way that has many smaller failure domains, instead of few large ones. \n",
    "\n",
    "As another example It’s better to have a video streaming service slow down instead of failing entirely. This kind of graceful degradation can be attributed to isolated failure domains.\n",
    "\n",
    "This topic can be a bit complex, but there are several community articles on the idea of identifying and managing failure domains. Consolidating and completely eliminating possible failure domains is the key to preventing future breakage. If anything, managing failure domains should keep the scope of a break as small as possible.\n",
    "\n",
    "Check out some more info here:\n",
    "\n",
    "    https://simpleprogrammer.com/understanding-the-problem-domain-is-the-hardest-part-of-programming/\n",
    "\n",
    "    https://blog.turbonomic.com/blog/on-technology/thinking-like-an-architect-understanding-failure-domains\n",
    "\n",
    "    https://landing.google.com/sre/sre-book/chapters/effective-troubleshooting/"
   ]
  },
  {
   "cell_type": "markdown",
   "metadata": {},
   "source": [
    "### Dealing with Hard Problems"
   ]
  },
  {
   "cell_type": "markdown",
   "metadata": {},
   "source": [
    "##### Debugging \n",
    "\n",
    "1. develop code in small, digestible chunks \n",
    "\n",
    "2. Keep your goal clear \n",
    "\n",
    "3. short term fix  to get services running, then Long term fix after. \n",
    "\n",
    "4. explain the problum to a rubber duck. \n",
    "\n",
    "\n",
    "###### Proactive Practices \n",
    "\n",
    "1. if we are writing the code , make sure that our code has good unit tests and integration tests. \n",
    "\n",
    "Testing  to be usefull run them often and make sure we know as soon as they fail \n",
    "setting up : \n",
    " Continuous integration , helps \n",
    "\n",
    "\n",
    " create Test Environment: deploy new code before it ships.\n",
    "\n",
    "1. another recommended practice when managing a fleet of\n",
    "computers is to deploy software in phases or canaries\n",
    "\n",
    "upgrade computers in small batches see how they do then up grade more as you go. \n",
    "\n",
    "\n",
    "\n",
    "comptuers easy to roll back to prevues verstion . \n",
    "\n",
    "1. Debug logging ; with in the code . \n",
    "\n",
    "2. Centrilized logs collection : A special server that gathers all the logs from all the services, or evewn all the computers. in the network. \n",
    "\n",
    "\n",
    "\n",
    "3 . Monitering sysem ; to catch issues early . \n",
    "\n",
    "4. ticketing sysems. \n",
    "\n",
    "\n",
    "\n",
    "\n"
   ]
  },
  {
   "cell_type": "markdown",
   "metadata": {},
   "source": []
  }
 ],
 "metadata": {
  "kernelspec": {
   "display_name": "Python 3.8.13 ('base')",
   "language": "python",
   "name": "python3"
  },
  "language_info": {
   "name": "python",
   "version": "3.8.13"
  },
  "orig_nbformat": 4,
  "vscode": {
   "interpreter": {
    "hash": "8656f5031db70faff7aded3bdfe4dbd6e4f3294b56caa8318c028c2777d29a21"
   }
  }
 },
 "nbformat": 4,
 "nbformat_minor": 2
}

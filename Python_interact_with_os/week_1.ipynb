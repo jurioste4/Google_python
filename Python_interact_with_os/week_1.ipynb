{
 "cells": [
  {
   "cell_type": "markdown",
   "metadata": {},
   "source": [
    "### Welcome to the Course\n",
    "###### Welcome to the course!\n",
    "\n",
    "In this course, you’ll learn how to use Python to perform system administration tasks and interact with a computer’s operating system. You’re about to embark on an exciting journey to learn one of the most-in-demand job skills in IT today!\n",
    "Course prerequisites\n",
    "\n",
    "This course builds upon the contents taught in the introduction to Python course:\n",
    "\n",
    "    The basic Python syntax (if, for, while, defining functions, classes, and methods)\n",
    "\n",
    "    How to use the most common data structures (strings, lists, tuples, and dictionaries)\n",
    "\n",
    "    How to import and use additional Python modules\n",
    "\n",
    " This course also requires some familiarity with some basic operating system concepts:\n",
    "\n",
    "    Files, directories, and file systems\n",
    "\n",
    "    Processes\n",
    "\n",
    "    Log files\n",
    "\n",
    "To get the most out of this course, we strongly recommend that you install software in your machine, or have your system administrator install it.\n",
    "How to pass the class\n",
    "\n",
    "You can review videos, readings, discussion forums, in-video questions, and practice quizzes in the program for free. However, to access graded assignments and be eligible to receive your official Google IT Support certificate, you must:\n",
    "\n",
    "    Pay the course certificate fee, or apply and be approved for Coursera Financial Aid.\n",
    "\n",
    "AND\n",
    "\n",
    "    Pass all graded assignments in the six courses at the minimum passing level, or above. Each graded assignment in a course is part of a cumulative grade for that course. The passing score for each course is 80%. \n",
    "\n",
    "How deadlines work\n",
    "\n",
    "When you enroll in the course, the system automatically sets a deadline for when you need to complete each section. Heads up: These deadlines are there to help you organize your time, but you can take the course at your own pace. If you \"miss\" a deadline, you can just reset it to a new date. There’s no time limit in which you have to finish the course, and you can earn the certificate whenever you finish.\n",
    "Qwiklabs\n",
    "\n",
    "For some of our exercises, you'll be using an application called Qwiklabs. Qwiklabs lets you interact with a computer running an operating system that might not be the one running on your machine. The Qwiklabs scenarios will allow you to solve some real-world problems, putting your knowledge to work through active learning exercises.\n",
    "Getting and giving help\n",
    "\n",
    "Here are a few ways you can give and get help: \n",
    "\n",
    "    Discussion forums: You can share information and ideas with your fellow learners in the discussion forums. These are also great places to find answers to questions you may have. If you're stuck on a concept, are struggling to solve a practice exercise, or you just want more information on a subject, the discussion forums are there to help you move forward.\n",
    "\n",
    "    Coursera learner support: Use the Learner Help Center to find information on specific technical issues. These include error messages, difficulty submitting assignments, or problems with video playback. If you can’t find an answer in the documentation, you can also report your problem to the Coursera support team by clicking on the Contact Us! link available at the bottom of help center articles.\n",
    "\n",
    "    Qwiklabs support: Please use the Qwiklabs support request form to report any issues with accessing or using Qwiklabs. A member of the Qwiklabs team will work with you to help resolve the problem.\n",
    "\n",
    "    Course content issues: You can also flag problems in course materials by rating them. When you rate course materials, the instructor will see your ratings and feedback; other learners won’t. To rate course materials:\n",
    "\n",
    "    Open the course material you want to rate. You can only rate videos, readings, and quizzes.  \n",
    "\n",
    "    If the content was interesting or helped you learn, click the thumbs-up icon. \n",
    "\n",
    "    If the content was unhelpful or confusing, click the thumbs-down icon.  \n",
    "\n",
    "Finding out more information\n",
    "\n",
    "Throughout this course, we teach you how to do a range of things with Python, Bash, and other tools. While we’ll provide a lot of information through videos and supplemental readings, sometimes, you may need to look things up on your own, now and throughout your career. Things change fast in IT, so it’s critical to do your own research to stay up-to-date on what’s new. We recommend you use your favorite search engine to find more information about concepts we cover in this course — it’s great practice for the real world!\n",
    "\n",
    " On top of search results, here are some good programming resources available online:\n",
    "\n",
    "    Automate the Boring Stuff with Python: This book (available online and in print) includes a lot of practical programming exercises for beginners. You can refer to this content to read more about some of the things that we'll be discussing, and get inspired with more ideas of things that can be automated.\n",
    "\n",
    "    Hitchhiker’s Guide to Python:https://docs.python-guide.org/  This site (available online and in print) also covers a lot of what we can do with Python. Again, you can use this resource to learn more about the subjects we cover (and the ones we had to omit for time constraints).\n",
    "\n",
    "    The official language reference: Once you know what Python tool you'll be using to do a certain task, this technical reference of all Python language components can be a great   \n",
    "\n",
    "    https://docs.python.org/3/reference/index.html"
   ]
  },
  {
   "cell_type": "markdown",
   "metadata": {},
   "source": [
    "#### interpreted vs Compiled Languages \n",
    "\n",
    "to run  a python script  from termail type \n",
    "\n",
    "python3 hello.py : this calls the interpater every time. to avode this \n",
    "\n",
    "\n",
    "add #!/usr/bin/env python to the top first line of the file save \n",
    "then need to make file an exacutable . s\n",
    "from termail run : \n",
    "\n",
    " chmod +x hello.py\n",
    "\n",
    "then to run the scrypt type ./file_name.py\n",
    "\n"
   ]
  },
  {
   "cell_type": "code",
   "execution_count": 2,
   "metadata": {},
   "outputs": [
    {
     "name": "stdout",
     "output_type": "stream",
     "text": [
      "[[ 3 12  6]\n",
      " [36 60 48]]\n"
     ]
    }
   ],
   "source": [
    "import numpy as np\n",
    "\n",
    "def numpyArray():\n",
    "    x = np.array([[1, 2, 3], [4, 5, 6]], np.int32)\n",
    "    y = np.array([[3, 6, 2], [9, 12, 8]], np.int32)\n",
    "    return x*y\n",
    "print(numpyArray())\n"
   ]
  },
  {
   "cell_type": "markdown",
   "metadata": {},
   "source": [
    "#### Your own Python Modules  \n",
    "start with takeing code for a script you will be useing   across more then one program.  \n",
    "\n",
    "file called areas.py ( caculates the area).\n",
    " has three funcions.   One  for the triangle , rectangle , circle; \n",
    "\n",
    " so we can create a new script and import this file in to it . \n",
    "\n",
    " now you can call each aspect of the the area. \n",
    "\n",
    "\n"
   ]
  },
  {
   "cell_type": "code",
   "execution_count": 2,
   "metadata": {},
   "outputs": [
    {
     "data": {
      "text/plain": [
       "7.5"
      ]
     },
     "execution_count": 2,
     "metadata": {},
     "output_type": "execute_result"
    }
   ],
   "source": [
    "import area\n",
    "area.triangle(3,5)"
   ]
  },
  {
   "cell_type": "markdown",
   "metadata": {},
   "source": [
    "if code becomes to Complex for one file , will have to split into sub modules: \n",
    "\n",
    "so in this case we create a directory with the sname of the Module  and  \n",
    "so in this case we create a directory with the sname of the Module\n",
    "\n",
    "so in the module directory will have a init.py file  which tells python that this directory is a module. "
   ]
  },
  {
   "cell_type": "markdown",
   "metadata": {},
   "source": [
    "#### what is an IDE\n",
    "\n",
    "IDE : Integrated Development  Environment \n",
    "\n",
    "Syntax highlighting : "
   ]
  },
  {
   "cell_type": "markdown",
   "metadata": {},
   "source": []
  },
  {
   "cell_type": "markdown",
   "metadata": {},
   "source": [
    "#### Setting up Your Environment\n",
    "\n",
    "After you’ve installed Python and checked that it works, the next step to set up your developer environment is to choose your main code editor.\n",
    "\n",
    "These are some of the common editors for Python, available for all platforms:\n",
    "\n",
    "    Atom\n",
    "\n",
    "    Eclipse\n",
    "\n",
    "    PyCharm\n",
    "\n",
    "    Sublime Text\n",
    "\n",
    "    Visual Studio Code\n",
    "\n",
    "You can read more about these editors, and others, in these overview comparatives:\n",
    "\n",
    "    Python IDEs and Code Editors (Guide)\n",
    "\n",
    "    Best Python IDEs and Code Editors\n",
    "\n",
    "    Top 5 Python IDEs for Data Science\n",
    "\n",
    "We encourage you to try out these editors and pick your favorite. Then, install it on your computer and experiment with writing and executing Python scripts locally."
   ]
  },
  {
   "cell_type": "markdown",
   "metadata": {},
   "source": [
    "##### Benefits of Automation  \n",
    "\n"
   ]
  }
 ],
 "metadata": {
  "kernelspec": {
   "display_name": "Python 3.8.13 ('base')",
   "language": "python",
   "name": "python3"
  },
  "language_info": {
   "codemirror_mode": {
    "name": "ipython",
    "version": 3
   },
   "file_extension": ".py",
   "mimetype": "text/x-python",
   "name": "python",
   "nbconvert_exporter": "python",
   "pygments_lexer": "ipython3",
   "version": "3.8.13"
  },
  "orig_nbformat": 4,
  "vscode": {
   "interpreter": {
    "hash": "8656f5031db70faff7aded3bdfe4dbd6e4f3294b56caa8318c028c2777d29a21"
   }
  }
 },
 "nbformat": 4,
 "nbformat_minor": 2
}

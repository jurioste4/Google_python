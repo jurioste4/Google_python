{
 "cells": [
  {
   "cell_type": "markdown",
   "metadata": {},
   "source": [
    "### Crashing Programs \n",
    "Linux sysem logs are located in /var/log/\n",
    "\n",
    "\n",
    "\n",
    "\n",
    "see the calls a sysem is makeing \n",
    "Linux : Strace   : \n",
    "macOS : dtruss\n",
    "Windows : Process Monitor\n",
    "\n",
    "\n",
    "Python bottle\n"
   ]
  },
  {
   "cell_type": "markdown",
   "metadata": {},
   "source": [
    "VR machine  \n",
    "Contrainer \n",
    "\n",
    "watch Dog : a process that checks wether a program is running and, when it's not, starts the program again. \n"
   ]
  },
  {
   "cell_type": "markdown",
   "metadata": {},
   "source": [
    "#### Internal Server Error \n",
    "\n",
    "\n",
    "access the /var/log/ directory \n",
    "then use the  ls -lt | head    (-lt which sorts files by las modifed date. and head only shows the top 10  )\n",
    "\n",
    "Netstat: command : which can give us a bunch of info about our network connection depending on flags we pass : \n",
    "\n",
    "will use -n for numerical address  and l to only check sockets that are listening for connection and P ro pring the prosess ID and name which each socket belongs.  and pipe that in to grep : 80 \n",
    "\n",
    "so sudo netstat -npl | grep :80\n",
    "\n",
    "\n",
    "so need to check the config files  on linux there stored in the /etc/nginx/ directory \n",
    "\n",
    "\n",
    "error for site : \n",
    "change the owner of file \n",
    "\n",
    "sudo chown www-data.www-data site.log\n",
    "\n",
    "\n",
    "\n"
   ]
  },
  {
   "cell_type": "markdown",
   "metadata": {},
   "source": [
    "Resources for Understanding Crashes\n",
    "\n",
    "There's a ton of different reasons why a computer might crash. This Scientific American article discusses many of the possible reasons, including hardware problems and issues with the overall operating system or the applications on top. \n",
    "\n",
    "On Linux or MacOS, the worst kind of crash is called a Kernel Panic. On Windows, it's known as the Blue Screen of Death. These are situations where the computer completely stops responding and only a reboot can make it work again. They don't happen often, but it's good to understand what they mean: the whole OS encountered an error and it can't recover.\n",
    "\n",
    "We called out that reading logs is super important. You should know how to read logs on the operating system that you're using. Here are some resources for this:\n",
    "\n",
    "    How to find logs on Windows 10 (Digital Masters Magazine)\n",
    "\n",
    "    How to view the System Log on a Mac (How-to Geek)\n",
    "\n",
    "    How to check system logs on Linux (FOSS Linux) \n",
    "\n",
    "You also need to be familiar with the tools available in your OS to diagnose problems. These are the tools we called out, but you don't need to limit yourself to them:\n",
    "\n",
    "    Process Monitor for Windows (Microsoft)\n",
    "\n",
    "    Linux strace command tutorial for beginners (HowtoForge)  \n",
    "\n",
    "    How to trace your system calls on Mac OS (/etc/notes)\n",
    "\n"
   ]
  }
 ],
 "metadata": {
  "language_info": {
   "name": "python"
  },
  "orig_nbformat": 4
 },
 "nbformat": 4,
 "nbformat_minor": 2
}

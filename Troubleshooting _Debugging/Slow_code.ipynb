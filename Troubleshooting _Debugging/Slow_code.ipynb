{
 "cells": [
  {
   "cell_type": "markdown",
   "metadata": {},
   "source": [
    "# Slow Code \n",
    "\n",
    "More About Improving Our Code\n",
    "\n",
    "Check out the following links for more information:\n",
    "\n",
    "https://en.wikipedia.org/wiki/Profiling_(computer_programming)"
   ]
  },
  {
   "cell_type": "markdown",
   "metadata": {},
   "source": [
    "## Writing Efficient Code : \n",
    "\n",
    "Profiler : \n",
    "\n",
    "A tool that mesures the resources that our code used , giving us a better understanding of waht is going on \n",
    "\n",
    "\n",
    "cProfile - to look at python code\n"
   ]
  },
  {
   "cell_type": "markdown",
   "metadata": {},
   "source": [
    "### Using the Right Data Structures \n",
    "\n",
    "\n",
    "pprofile3 : python library will genrate a file to look at \n",
    "\n",
    "use ; kcachegrind   .out file \n",
    "\n",
    "\n",
    "time command \n",
    "time ./program.py\n"
   ]
  },
  {
   "cell_type": "markdown",
   "metadata": {},
   "source": [
    "### Parallelizing Operations\n",
    "\n",
    " Threads : Lets us run parallel Tasks inside a process.\n",
    " \n",
    " the Os does not do Threading so need to intrgrage this in to the python code. \n",
    "\n",
    " done with : Threding or Asyncio moduals \n",
    "\n",
    "\n",
    " #### Slowly Growing In Complexity \n",
    "\n",
    "to run things in parallel need to crate an \n",
    "\n",
    "Executor : \n",
    "The process that in charge of distributing the work among the different workers. \n",
    "\n",
    "Futures Module : Provides a couple of different executors; one for useing threds and another for useing processes \n",
    "\n",
    "\n",
    "from concurrent import futures \n",
    "\n",
    "#### More About Complex Slow Systems\n",
    "\n",
    "We only touched briefly on the ways we can use concurrency to improve our programs. If you're interested in learning more, this article from Real Python has a lot of details on the different ways to use concurrency in Python.\n",
    "\n",
    "Check out the following links for more information:\n",
    "\n",
    "https://realpython.com/python-concurrency/\n",
    "\n",
    "https://hackernoon.com/threaded-asynchronous-magic-and-how-to-wield-it-bba9ed602c32\n",
    "\n",
    "\n"
   ]
  }
 ],
 "metadata": {
  "language_info": {
   "name": "python"
  },
  "orig_nbformat": 4
 },
 "nbformat": 4,
 "nbformat_minor": 2
}

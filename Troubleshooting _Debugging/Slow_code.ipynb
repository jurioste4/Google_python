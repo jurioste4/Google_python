{
 "cells": [
  {
   "cell_type": "markdown",
   "metadata": {},
   "source": [
    "# Slow Code \n",
    "\n",
    "More About Improving Our Code\n",
    "\n",
    "Check out the following links for more information:\n",
    "\n",
    "https://en.wikipedia.org/wiki/Profiling_(computer_programming)"
   ]
  },
  {
   "cell_type": "markdown",
   "metadata": {},
   "source": [
    "## Writing Efficient Code : \n",
    "\n"
   ]
  }
 ],
 "metadata": {
  "language_info": {
   "name": "python"
  },
  "orig_nbformat": 4
 },
 "nbformat": 4,
 "nbformat_minor": 2
}

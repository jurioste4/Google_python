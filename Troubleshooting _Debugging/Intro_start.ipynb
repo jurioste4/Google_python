{
 "cells": [
  {
   "cell_type": "markdown",
   "metadata": {},
   "source": [
    "## Welcome to the Course\n",
    "\n",
    "Welcome to the course!\n",
    "In this course, you’ll learn how to debug and troubleshoot a wide range of technical problems, both in your code and in someone else's code.\n",
    "\n",
    "Course prerequisites\n",
    "This course requires some familiarity with basic IT concepts:\n",
    "\n",
    "Operating systems: file systems, processes, log files\n",
    "\n",
    "Computer hardware: CPU, RAM, disk, graphic, and network cards\n",
    "\n",
    "Basic networking: network connections and network bandwidth\n",
    "\n",
    "The example scripts and programs in this course are written in Python, so you’ll need an understanding of this programming language, too. \n",
    "\n",
    "How to pass the class\n",
    "The course certificate gives you a way to prove your new programming skills to employers. To qualify for the certificate, you have to enroll in the program, pay the fee, and pass the graded assessments. If you don’t want to pay, you can still audit the course for free. This lets you view all videos and submit practice quizzes as you learn. One thing to remember though, this option doesn’t let you submit assessments, earn a grade, or receive the certificate.\n",
    "\n",
    "How deadlines work\n",
    "When you enroll in the course, the system automatically sets a deadline for when you need to complete each section. Heads up: These deadlines are there to help you organize your time, but you can take the course at your own pace. If you \"miss\" a deadline, you can just reset it to a new date. There’s no time limit in which you have to finish the course, and you can earn the certificate whenever you finish.\n",
    "\n",
    "Qwiklabs\n",
    "For some of our exercises, you'll be using an application called Qwiklabs. Qwiklabs lets you interact with a computer running an operating system that might not be the same one running on your machine. The Qwiklabs scenarios will allow you to solve some real-world problems, putting your knowledge to work through active learning exercises.\n",
    "\n",
    "Getting and giving help\n",
    "Here are a few ways you can give and get help: \n",
    "\n",
    "Discussion forums: You can share information and ideas with your fellow learners in the discussion forums. These are also great places to find answers to questions you may have. If you're stuck on a concept, are struggling to solve a practice exercise, or you just want more information on a subject, the discussion forums are there to help you move forward.\n",
    "\n",
    "Coursera learner support: Use the Learner Help Center to find information on specific technical issues. These include error messages, difficulty submitting assignments, or problems with video playback. If you can’t find an answer in the documentation, you can also report your problem to the Coursera support team by clicking on the Contact Us! link available at the bottom of help center articles.\n",
    "\n",
    "Qwiklabs support: Please use the Qwiklabs support request form to report any issues with accessing or using Qwiklabs. A member of the Qwiklabs team will work with you to help resolve the problem.\n",
    "\n",
    "Course content issues: You can also flag problems in course materials by rating them. When you rate course materials, the instructor will see your ratings and feedback; other learners won’t. To rate course materials:\n",
    "\n",
    "Open the course material you want to rate. You can only rate videos, readings, and quizzes.\n",
    "\n",
    "If the content was interesting or helped you learn, click the thumbs-up icon.\n",
    "\n",
    "If the content was unhelpful or confusing, click the thumbs-down icon.\n",
    "\n",
    "Finding out more information\n",
    "Throughout this course, we teach you how to solve a wide range of technical issues. While we’ll provide a lot of information through videos and supplemental readings, sometimes, you may need to look things up on your own, now and throughout your career. Things change fast in IT, so it’s critical to do your own research to stay up-to-date on what’s new. We recommend you use your favorite search engine to find more information about concepts we cover in this course — it’s great practice for the real world!\n",
    "\n",
    "On top of search results, the StackOverflow site usually contains a lot of interesting information related to troubleshooting.  "
   ]
  },
  {
   "cell_type": "markdown",
   "metadata": {},
   "source": [
    "#### Module 1: Troubleshooting Concepts\n",
    "\n",
    "\n",
    " Troubleshooting : the process of id analyzing , and solving problems. \n",
    " Debugging : the process of ID  analyzing and removeing bugs in the system. \n",
    "\n",
    "Debuggers: \n",
    "Let us folloow the code line by line , inspect changes in variables assignments, interrupt the program when a specifict condiokn is met and more \n",
    "\n"
   ]
  },
  {
   "cell_type": "markdown",
   "metadata": {},
   "source": [
    "### Silently Crashing Application\n",
    "strace : look at what the computer is doing  or all the sysem calls the  program has made. \n",
    "\n",
    "strace -o : saves the output  into a file. \n",
    "syintax : strace -o failure.strace ./program name\n",
    "\n",
    "can open the the file who ever you want ; \n",
    "use : less failure.strace : then go the end of file with shift g\n",
    "\n"
   ]
  },
  {
   "cell_type": "markdown",
   "metadata": {},
   "source": [
    "### it does not work \n",
    "\n",
    "ask key question , \n",
    "what were you trying to do \n",
    "what was the expeded resut\n",
    "\n",
    "can i repudeince the error \n",
    "\n",
    "the  see were the issue is: is it just that website if so were is it hosted on : \n",
    "\n",
    "if it is a linix comptuer : then connect by SSH \n",
    "\n",
    "then run the: top command :  which shows the state of the computer process useing most CPU: and see comptuer is overloaded: \n",
    "\n",
    "\n",
    "the load average in the first line says 40. Linux shows how much time a processor is busy in a given min. with 1 meaning it was busy for 1 minut. \n",
    "\n",
    "so this whould not be above the number of cores in the computer .. so 40 is high. \n",
    "\n"
   ]
  },
  {
   "cell_type": "markdown",
   "metadata": {},
   "source": [
    "### Create a reproduction case : \n",
    "needs to be simple \n",
    "\n",
    "what is the issue : prgram not loading on users comptuer ... \n",
    "\n",
    "you can run it fine on your end so issue on users invirement: \n",
    "\n",
    "so check sysem logs ; but which sysem logs to check: \n",
    "\n",
    "\n",
    "on Linux,  read files like : /var/log/syslog and user-specific logs like xsesion-errors file located in the users home directory . \n",
    "\n",
    "on MacOS on top of sysem logs you go though the logs stored in the libarary logs directoy. \n",
    "\n",
    "\n",
    "on windows : use event viewer tool to see event logs: \n",
    "\n",
    "\n",
    "\n",
    "\n",
    "iftop : shows the current tracffic on the network interface : \n",
    "\n",
    "iotop,\n",
    "which is a tool similar to top that lets us\n",
    "see which processes are using the most input and output\n"
   ]
  },
  {
   "cell_type": "code",
   "execution_count": 7,
   "metadata": {},
   "outputs": [
    {
     "name": "stdout",
     "output_type": "stream",
     "text": [
      "have a great day == have a great day\n",
      "True\n"
     ]
    }
   ],
   "source": [
    "import re\n",
    "\n",
    "\n",
    "def compare_strings(string1, string2):\n",
    "    # Convert both strings to lowercase\n",
    "    # and remove leading and trailing blanks\n",
    "    string1 = string1.lower().strip()\n",
    "    string2 = string2.lower().strip()\n",
    "\n",
    "    # Ignore punctuation\n",
    "    punctuation = r\"[.?!,;:'-]\"\n",
    "    string1 = re.sub(punctuation, r\"\", string1)\n",
    "    string2 = re.sub(punctuation, r\"\", string2)\n",
    "\n",
    "    # DEBUG CODE GOES HERE\n",
    "    print(string1, \"==\", string2)\n",
    "\n",
    "    return string1 == string2\n",
    "\n",
    "\n",
    "print(compare_strings(\"Have a Great Day!\", \"Have a great day?\"))  # True\n",
    "# print(compare_strings(\"It's raining again.\", \"its raining, again\")) # True\n",
    "# print(compare_strings(\"Learn to count: 1, 2, 3.\", \"Learn to count: one, two, three.\")) # False\n",
    "# print(compare_strings(\"They found some body.\", \"They found somebody.\")) # False\n"
   ]
  },
  {
   "cell_type": "markdown",
   "metadata": {},
   "source": [
    "### What is binary search?\n",
    "\n",
    "Liner search "
   ]
  },
  {
   "cell_type": "code",
   "execution_count": null,
   "metadata": {},
   "outputs": [],
   "source": [
    "# Linear search\n",
    "\n",
    "def linear_search(list, key):\n",
    "    \"\"\"If key is in the list returns its position in the list,\n",
    "     othewrwise returns -1\"\"\"\n",
    "\n",
    "    for i, item in enumerate(list):\n",
    "        if item == key:\n",
    "            return i\n",
    "    return -1\n"
   ]
  },
  {
   "cell_type": "code",
   "execution_count": null,
   "metadata": {},
   "outputs": [],
   "source": [
    "def binary_search(list, key):\n",
    "    \"\"\"Returns the position of key in the list if found, -1 otherwise.\n",
    "\n",
    "    List must be sorted.\n",
    "    \"\"\"\n",
    "    left = 0\n",
    "    right = len(list) - 1\n",
    "    while left <= right:\n",
    "        middle = (left + right) // 2\n",
    "\n",
    "        if list[middle] == key:\n",
    "            return middle\n",
    "        if list[middle] > key:\n",
    "            right = middle - 1\n",
    "        if list[middle] < key:\n",
    "            left = middle + 1\n",
    "    return -1\n"
   ]
  },
  {
   "cell_type": "markdown",
   "metadata": {},
   "source": [
    "### Applying Binary Search in Troubleshooting  \n",
    "\n",
    "use command #### git bisect \n",
    "\n",
    "to find the commit . "
   ]
  },
  {
   "cell_type": "markdown",
   "metadata": {},
   "source": [
    "### Applying Binary Search in Troubleshooting  \n",
    "\n",
    "#We have a program that reads data from a CSV file, processes it,\n",
    "and then imports it into a database.\n",
    "One of the users of the system tells us that the file they're trying to import\n",
    "fails with an obscure import error. \n",
    "\n",
    "\n",
    "we will connect the out put of cat contacts.csv  to the import.py command . \n",
    "\n",
    "user:-/import_data$ cat contacts.csv | ./import.py --server test\n",
    "\n",
    "import error \n",
    "\n",
    "\n",
    "wc -l contacts.csv\n",
    "\n",
    "100 contacts.csv\n",
    "\n",
    "head -15 contacs.csv    -- first 15 lines of the file. \n",
    "\n",
    "tail -20  contacts.csv   -- last 20 lines of the file print \n",
    "\n",
    "\n",
    "head -50 contacts.csv | ./import.py --server test\n",
    "\n",
    "import error \n",
    "\n",
    "head-50 contacts.csv |head -25| ./import.py --server test\n",
    "import successrful \n",
    "\n",
    "head-50 contacts.csv |tail -25| ./import.py --server test\n",
    "\n",
    "import error\n",
    "\n",
    "\n",
    "head-50 contacts.csv |tail -25 | head -13| ./import.py --server test\n"
   ]
  },
  {
   "cell_type": "code",
   "execution_count": 4,
   "metadata": {},
   "outputs": [
    {
     "name": "stdout",
     "output_type": "stream",
     "text": [
      "True\n",
      "False\n",
      "True\n",
      "False\n"
     ]
    }
   ],
   "source": [
    "def find_item(list, item):\n",
    "    # Returns True if the item is in the list, False if not.\n",
    "    if len(list) == 0:\n",
    "        return False\n",
    "    \n",
    "    list.sort()\n",
    "\n",
    "    # Is the item in the center of the list?\n",
    "    middle = len(list)//2\n",
    "    if list[middle] == item:\n",
    "        return True\n",
    "\n",
    "    # Is the item in the first half of the list?\n",
    "    if item < list[middle]:\n",
    "        # Call the function with the first half of the list\n",
    "        return find_item(list[:middle], item)\n",
    "    else:\n",
    "        # Call the function with the second half of the list\n",
    "        return find_item(list[middle+1:], item)\n",
    "\n",
    "    return False\n",
    "\n",
    "\n",
    "# Do not edit below this line - This code helps check your work!\n",
    "list_of_names = [\"Parker\", \"Drew\", \"Cameron\", \"Logan\",\n",
    "                 \"Alex\", \"Chris\", \"Terry\", \"Jamie\", \"Jordan\", \"Taylor\"]\n",
    "\n",
    "print(find_item(list_of_names, \"Alex\"))  # True\n",
    "print(find_item(list_of_names, \"Andrew\"))  # False\n",
    "print(find_item(list_of_names, \"Drew\"))  # True\n",
    "print(find_item(list_of_names, \"Jared\"))  # False\n"
   ]
  },
  {
   "cell_type": "code",
   "execution_count": null,
   "metadata": {},
   "outputs": [],
   "source": []
  }
 ],
 "metadata": {
  "interpreter": {
   "hash": "8656f5031db70faff7aded3bdfe4dbd6e4f3294b56caa8318c028c2777d29a21"
  },
  "kernelspec": {
   "display_name": "Python 3.8.12 ('base')",
   "language": "python",
   "name": "python3"
  },
  "language_info": {
   "codemirror_mode": {
    "name": "ipython",
    "version": 3
   },
   "file_extension": ".py",
   "mimetype": "text/x-python",
   "name": "python",
   "nbconvert_exporter": "python",
   "pygments_lexer": "ipython3",
   "version": "3.8.12"
  },
  "orig_nbformat": 4
 },
 "nbformat": 4,
 "nbformat_minor": 2
}

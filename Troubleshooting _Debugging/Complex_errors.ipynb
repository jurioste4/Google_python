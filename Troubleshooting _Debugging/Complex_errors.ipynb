{
 "cells": [
  {
   "cell_type": "markdown",
   "metadata": {},
   "source": [
    "## Crashes in Complex Systems\n",
    "\n",
    "problem : e-commerce site for your company.\n",
    "The page as seen by the users recently started responding with\n",
    "internal server error to about 20% of all requests. \n",
    "\n",
    "\n",
    "step one : check log;s for the services that  has the issue . \n",
    "and or server logs. \n",
    "\n"
   ]
  }
 ],
 "metadata": {
  "language_info": {
   "name": "python"
  },
  "orig_nbformat": 4
 },
 "nbformat": 4,
 "nbformat_minor": 2
}

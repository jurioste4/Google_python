{
 "cells": [
  {
   "cell_type": "markdown",
   "metadata": {},
   "source": [
    "## Strings"
   ]
  },
  {
   "cell_type": "code",
   "execution_count": 3,
   "metadata": {},
   "outputs": [
    {
     "data": {
      "text/plain": [
       "'hellohello'"
      ]
     },
     "execution_count": 3,
     "metadata": {},
     "output_type": "execute_result"
    }
   ],
   "source": [
    "\"hello\" * 2\n"
   ]
  },
  {
   "cell_type": "code",
   "execution_count": 7,
   "metadata": {},
   "outputs": [
    {
     "name": "stdout",
     "output_type": "stream",
     "text": [
      "hellohello10\n",
      "abcabc6\n",
      "0\n"
     ]
    }
   ],
   "source": [
    "def double_word(word):\n",
    "    word = word*2\n",
    "    return word  + str(len(word))\n",
    "\n",
    "print(double_word(\"hello\")) # Should return hellohello10\n",
    "print(double_word(\"abc\"))   # Should return abcabc6\n",
    "print(double_word(\"\"))      # Should return 0"
   ]
  },
  {
   "cell_type": "markdown",
   "metadata": {},
   "source": [
    "### string indexing"
   ]
  },
  {
   "cell_type": "code",
   "execution_count": 8,
   "metadata": {},
   "outputs": [
    {
     "name": "stdout",
     "output_type": "stream",
     "text": [
      "o\n"
     ]
    }
   ],
   "source": [
    "name = \"Sonya\"\n",
    "print(name[1])"
   ]
  },
  {
   "cell_type": "code",
   "execution_count": 9,
   "metadata": {},
   "outputs": [
    {
     "name": "stdout",
     "output_type": "stream",
     "text": [
      "S\n"
     ]
    }
   ],
   "source": [
    "print(name[0])"
   ]
  },
  {
   "cell_type": "code",
   "execution_count": 10,
   "metadata": {},
   "outputs": [
    {
     "name": "stdout",
     "output_type": "stream",
     "text": [
      "s\n"
     ]
    }
   ],
   "source": [
    "text = \" Random string with a lot of characters\"\n",
    "print(text[-1])"
   ]
  },
  {
   "cell_type": "code",
   "execution_count": 11,
   "metadata": {},
   "outputs": [
    {
     "name": "stdout",
     "output_type": "stream",
     "text": [
      "r\n"
     ]
    }
   ],
   "source": [
    "print(text[-2])"
   ]
  },
  {
   "cell_type": "code",
   "execution_count": 14,
   "metadata": {},
   "outputs": [
    {
     "name": "stdout",
     "output_type": "stream",
     "text": [
      "True\n",
      "False\n",
      "True\n"
     ]
    }
   ],
   "source": [
    "def first_and_last(message):\n",
    "    if not message or message[0] == message[-1]:\n",
    "        return True\n",
    "    else:  \n",
    "        return False\n",
    "\n",
    "print(first_and_last(\"else\"))\n",
    "print(first_and_last(\"tree\"))\n",
    "print(first_and_last(\"\"))"
   ]
  },
  {
   "cell_type": "markdown",
   "metadata": {},
   "source": [
    "#### Slice\n",
    "the Portion of a string that can contain more then one charater; also some time called a substring"
   ]
  },
  {
   "cell_type": "code",
   "execution_count": 15,
   "metadata": {},
   "outputs": [
    {
     "data": {
      "text/plain": [
       "'ran'"
      ]
     },
     "execution_count": 15,
     "metadata": {},
     "output_type": "execute_result"
    }
   ],
   "source": [
    "color = \"Orange\"\n",
    "color[1:4]"
   ]
  },
  {
   "cell_type": "code",
   "execution_count": 16,
   "metadata": {},
   "outputs": [
    {
     "name": "stdout",
     "output_type": "stream",
     "text": [
      "Pine\n"
     ]
    }
   ],
   "source": [
    "fruit = \"Pineapple\"\n",
    "print(fruit[:4])"
   ]
  },
  {
   "cell_type": "code",
   "execution_count": 17,
   "metadata": {},
   "outputs": [
    {
     "name": "stdout",
     "output_type": "stream",
     "text": [
      "apple\n"
     ]
    }
   ],
   "source": [
    "print(fruit[4:])"
   ]
  },
  {
   "cell_type": "markdown",
   "metadata": {},
   "source": [
    "### String Indexing and Slicing\n",
    "\n",
    "\n",
    "String indexing allows you to access individual characters in a string. You can do this by using square brackets and the location, or index, of the character you want to access. It's important to remember that Python starts indexes at 0. So to access the first character in a string, you would use the index [0]. If you try to access an index that’s larger than the length of your string, you’ll get an IndexError. This is because you’re trying to access something that doesn't exist! You can also access indexes from the end of the string going towards the start of the string by using negative values. The index [-1] would access the last character of the string, and the index [-2] would access the second-to-last character.\n",
    "\n",
    "You can also access a portion of a string, called a slice or a substring. This allows you to access multiple characters of a string. You can do this by creating a range, using a colon as a separator between the start and end of the range, like [2:5]. \n",
    "\n",
    "This range is similar to the range() function we saw previously. It includes the first number, but goes to one less than the last number. For example:\n",
    "\n",
    ">>> fruit = \"Mangosteen\"\n",
    ">>> fruit[1:4]\n",
    "'ang'\n",
    "\n",
    "The slice includes the character at index 1, and excludes the character at index 4. You can also easily reference a substring at the start or end of the string by only specifying one end of the range. For example, only giving the end of the range:\n",
    "\n",
    ">>> fruit[:5]\n",
    "'Mango'\n",
    "\n",
    "This gave us the characters from the start of the string through index 4, excluding index 5. On the other hand this example gives is the characters including index 5, through the end of the string:\n",
    "\n",
    ">>> fruit[5:]\n",
    "'steen'\n",
    "\n",
    "You might have noticed that if you put both of those results together, you get the original string back!\n",
    "\n",
    ">>> fruit[:5] + fruit[5:]\n",
    "'Mangosteen'\n",
    "\n",
    "Cool!\n",
    "\n"
   ]
  },
  {
   "cell_type": "markdown",
   "metadata": {},
   "source": [
    "### Createing new  strings "
   ]
  },
  {
   "cell_type": "code",
   "execution_count": 1,
   "metadata": {},
   "outputs": [],
   "source": [
    "# correcting new string \n",
    "\n",
    "message = \"A kong string with a silly typo\"\n",
    "\n"
   ]
  },
  {
   "cell_type": "code",
   "execution_count": 2,
   "metadata": {},
   "outputs": [
    {
     "ename": "TypeError",
     "evalue": "'str' object does not support item assignment",
     "output_type": "error",
     "traceback": [
      "\u001b[0;31m---------------------------------------------------------------------------\u001b[0m",
      "\u001b[0;31mTypeError\u001b[0m                                 Traceback (most recent call last)",
      "\u001b[1;32m/home/jurioste2/Desktop/Programming/google_python/week_4.ipynb Cell 17'\u001b[0m in \u001b[0;36m<cell line: 1>\u001b[0;34m()\u001b[0m\n\u001b[0;32m----> <a href='vscode-notebook-cell:/home/jurioste2/Desktop/Programming/google_python/week_4.ipynb#ch0000017?line=0'>1</a>\u001b[0m message[\u001b[39m2\u001b[39m] \u001b[39m=\u001b[39m\u001b[39m\"\u001b[39m\u001b[39ml\u001b[39m\u001b[39m\"\u001b[39m\n",
      "\u001b[0;31mTypeError\u001b[0m: 'str' object does not support item assignment"
     ]
    }
   ],
   "source": [
    "message[2] =\"l\""
   ]
  },
  {
   "cell_type": "code",
   "execution_count": 3,
   "metadata": {},
   "outputs": [
    {
     "name": "stdout",
     "output_type": "stream",
     "text": [
      "A long string with a silly typo\n"
     ]
    }
   ],
   "source": [
    "new_message = message[0:2] + \"l\" + message[3:]\n",
    "print(new_message)"
   ]
  },
  {
   "cell_type": "code",
   "execution_count": 4,
   "metadata": {},
   "outputs": [
    {
     "data": {
      "text/plain": [
       "5"
      ]
     },
     "execution_count": 4,
     "metadata": {},
     "output_type": "execute_result"
    }
   ],
   "source": [
    "pets = \"Cats & Dogs\"\n",
    "pets.index(\"&\")"
   ]
  },
  {
   "cell_type": "markdown",
   "metadata": {},
   "source": [
    "#### Method \n",
    "\n",
    "A function associated with a specific class"
   ]
  },
  {
   "cell_type": "code",
   "execution_count": 7,
   "metadata": {},
   "outputs": [
    {
     "data": {
      "text/plain": [
       "0"
      ]
     },
     "execution_count": 7,
     "metadata": {},
     "output_type": "execute_result"
    }
   ],
   "source": [
    "pets.index(\"C\")"
   ]
  },
  {
   "cell_type": "code",
   "execution_count": 8,
   "metadata": {},
   "outputs": [
    {
     "data": {
      "text/plain": [
       "7"
      ]
     },
     "execution_count": 8,
     "metadata": {},
     "output_type": "execute_result"
    }
   ],
   "source": [
    "pets.index(\"Dog\")"
   ]
  },
  {
   "cell_type": "code",
   "execution_count": 10,
   "metadata": {},
   "outputs": [
    {
     "data": {
      "text/plain": [
       "3"
      ]
     },
     "execution_count": 10,
     "metadata": {},
     "output_type": "execute_result"
    }
   ],
   "source": [
    "# only one value becuse the index method returns the index of the first value that matches\n",
    "pets.index(\"s\")"
   ]
  },
  {
   "cell_type": "code",
   "execution_count": 11,
   "metadata": {},
   "outputs": [
    {
     "ename": "ValueError",
     "evalue": "substring not found",
     "output_type": "error",
     "traceback": [
      "\u001b[0;31m---------------------------------------------------------------------------\u001b[0m",
      "\u001b[0;31mValueError\u001b[0m                                Traceback (most recent call last)",
      "\u001b[1;32m/home/jurioste2/Desktop/Programming/google_python/week_4.ipynb Cell 24'\u001b[0m in \u001b[0;36m<cell line: 1>\u001b[0;34m()\u001b[0m\n\u001b[0;32m----> <a href='vscode-notebook-cell:/home/jurioste2/Desktop/Programming/google_python/week_4.ipynb#ch0000023?line=0'>1</a>\u001b[0m pets\u001b[39m.\u001b[39;49mindex(\u001b[39m\"\u001b[39;49m\u001b[39mx\u001b[39;49m\u001b[39m\"\u001b[39;49m)\n",
      "\u001b[0;31mValueError\u001b[0m: substring not found"
     ]
    }
   ],
   "source": [
    "pets.index(\"x\")"
   ]
  },
  {
   "cell_type": "code",
   "execution_count": 14,
   "metadata": {},
   "outputs": [
    {
     "name": "stdout",
     "output_type": "stream",
     "text": [
      "21\n"
     ]
    }
   ],
   "source": [
    "word = \"supercalifragilisticexpialidocious\"\n",
    "print(word.index(\"x\"))\n"
   ]
  },
  {
   "cell_type": "code",
   "execution_count": 15,
   "metadata": {},
   "outputs": [
    {
     "data": {
      "text/plain": [
       "False"
      ]
     },
     "execution_count": 15,
     "metadata": {},
     "output_type": "execute_result"
    }
   ],
   "source": [
    "\"Dragons\" in  pets"
   ]
  },
  {
   "cell_type": "code",
   "execution_count": 16,
   "metadata": {},
   "outputs": [
    {
     "data": {
      "text/plain": [
       "True"
      ]
     },
     "execution_count": 16,
     "metadata": {},
     "output_type": "execute_result"
    }
   ],
   "source": [
    "\"Cats\" in pets"
   ]
  },
  {
   "cell_type": "code",
   "execution_count": null,
   "metadata": {},
   "outputs": [],
   "source": [
    "# so function to replace  all email with old domain with new domain \n",
    "\n",
    "\n",
    "def replace_domain(email,old_domain, new_domain):\n",
    "    if \"@\"+ old_domain in email:\n",
    "        index = email.index(\"@\") = old_domain)\n",
    "        new_email = email[:index] + \"@\" + new_domain\n",
    "        return new_email\n",
    "    return email"
   ]
  },
  {
   "cell_type": "markdown",
   "metadata": {},
   "source": [
    "# Basic String Methods\n",
    "\n",
    "In Python, strings are immutable. This means that they can't be modified. So if we wanted to fix a typo in a string, we can't simply modify the wrong character. We would have to create a new string with the typo corrected. We can also assign a new value to the variable holding our string.\n",
    "\n",
    "If we aren't sure what the index of our typo is, we can use the string method index to locate it and return the index. Let's imagine we have the string \"lions tigers and bears\" in the variable animals. We can locate the index that contains the letter g using animals.index(\"g\"), which will return the index; in this case 8. We can also use substrings to locate the index where the substring begins. animals.index(\"bears\") would return 17, since that’s the start of the substring. If there’s more than one match for a substring, the index method will return the first match. If we try to locate a substring that doesn't exist in the string, we’ll receive a ValueError explaining that the substring was not found.\n",
    "\n",
    "We can avoid a ValueError by first checking if the substring exists in the string. This can be done using the in keyword. We saw this keyword earlier when we covered for loops. In this case, it's a conditional that will be either True or False. If the substring is found in the string, it will be True. If the substring is not found in the string, it will be False. Using our previous variable animals, we can do \"horses\" in animals to check if the substring \"horses\" is found in our variable. In this case, it would evaluate to False, since horses aren’t included in our example string. If we did \"tigers\" in animals, we'd get True, since this substring is contained in our string."
   ]
  },
  {
   "cell_type": "code",
   "execution_count": 1,
   "metadata": {},
   "outputs": [
    {
     "data": {
      "text/plain": [
       "'MOUNTAINS'"
      ]
     },
     "execution_count": 1,
     "metadata": {},
     "output_type": "execute_result"
    }
   ],
   "source": [
    "\"mountains\".upper()"
   ]
  },
  {
   "cell_type": "code",
   "execution_count": 3,
   "metadata": {},
   "outputs": [
    {
     "data": {
      "text/plain": [
       "'mountains'"
      ]
     },
     "execution_count": 3,
     "metadata": {},
     "output_type": "execute_result"
    }
   ],
   "source": [
    "\"Mountains\".lower()"
   ]
  },
  {
   "cell_type": "code",
   "execution_count": 5,
   "metadata": {},
   "outputs": [
    {
     "name": "stdout",
     "output_type": "stream",
     "text": [
      "User said yes\n"
     ]
    }
   ],
   "source": [
    "answer = 'YES'\n",
    "if answer.lower() == \"yes\":\n",
    "    print(\"User said yes\")"
   ]
  },
  {
   "cell_type": "code",
   "execution_count": 6,
   "metadata": {},
   "outputs": [
    {
     "data": {
      "text/plain": [
       "'yes'"
      ]
     },
     "execution_count": 6,
     "metadata": {},
     "output_type": "execute_result"
    }
   ],
   "source": [
    "# strip method removes spaces  tags and new line caritaers \n",
    "\n",
    "\" yes \". strip()"
   ]
  },
  {
   "cell_type": "code",
   "execution_count": 7,
   "metadata": {},
   "outputs": [
    {
     "data": {
      "text/plain": [
       "'yes '"
      ]
     },
     "execution_count": 7,
     "metadata": {},
     "output_type": "execute_result"
    }
   ],
   "source": [
    "\" yes \".lstrip()"
   ]
  },
  {
   "cell_type": "code",
   "execution_count": 8,
   "metadata": {},
   "outputs": [
    {
     "data": {
      "text/plain": [
       "' yes'"
      ]
     },
     "execution_count": 8,
     "metadata": {},
     "output_type": "execute_result"
    }
   ],
   "source": [
    "\" yes \".rstrip()"
   ]
  },
  {
   "cell_type": "code",
   "execution_count": 9,
   "metadata": {},
   "outputs": [
    {
     "data": {
      "text/plain": [
       "4"
      ]
     },
     "execution_count": 9,
     "metadata": {},
     "output_type": "execute_result"
    }
   ],
   "source": [
    "# count . returns how many times a givin sub string appers with in a string \n",
    "\n",
    "\" The number of times e occurs in this string is 4\".count(\"e\")"
   ]
  },
  {
   "cell_type": "code",
   "execution_count": 11,
   "metadata": {},
   "outputs": [
    {
     "data": {
      "text/plain": [
       "True"
      ]
     },
     "execution_count": 11,
     "metadata": {},
     "output_type": "execute_result"
    }
   ],
   "source": [
    "# endswith returnes wether  the string ends with a given substring \n",
    "\"Forest\".endswith(\"rest\")"
   ]
  },
  {
   "cell_type": "code",
   "execution_count": 12,
   "metadata": {},
   "outputs": [
    {
     "data": {
      "text/plain": [
       "False"
      ]
     },
     "execution_count": 12,
     "metadata": {},
     "output_type": "execute_result"
    }
   ],
   "source": [
    "\"Forest\".isnumeric()   # tells if the given string is a numeric or not "
   ]
  },
  {
   "cell_type": "code",
   "execution_count": 13,
   "metadata": {},
   "outputs": [
    {
     "data": {
      "text/plain": [
       "True"
      ]
     },
     "execution_count": 13,
     "metadata": {},
     "output_type": "execute_result"
    }
   ],
   "source": [
    "\"12345\".isnumeric()"
   ]
  },
  {
   "cell_type": "code",
   "execution_count": 15,
   "metadata": {},
   "outputs": [
    {
     "data": {
      "text/plain": [
       "66666"
      ]
     },
     "execution_count": 15,
     "metadata": {},
     "output_type": "execute_result"
    }
   ],
   "source": [
    "int(\"12345\") + int(\"54321\")  # convert a srting that is numeric "
   ]
  },
  {
   "cell_type": "code",
   "execution_count": 16,
   "metadata": {},
   "outputs": [
    {
     "data": {
      "text/plain": [
       "'This is a phrase joined by space'"
      ]
     },
     "execution_count": 16,
     "metadata": {},
     "output_type": "execute_result"
    }
   ],
   "source": [
    "# can also use the join to concatanate strings \n",
    "\n",
    "\" \".join([\"This\", \"is\", \"a\", \"phrase\", \"joined\", \"by\", \"space\"])"
   ]
  },
  {
   "cell_type": "code",
   "execution_count": 17,
   "metadata": {},
   "outputs": [
    {
     "data": {
      "text/plain": [
       "'This...is...a...phrase...joined...by...tripple...dots'"
      ]
     },
     "execution_count": 17,
     "metadata": {},
     "output_type": "execute_result"
    }
   ],
   "source": [
    "\"...\".join([\"This\", \"is\", \"a\", \"phrase\", \"joined\", \"by\", \"tripple\", \"dots\"])  "
   ]
  },
  {
   "cell_type": "code",
   "execution_count": 18,
   "metadata": {},
   "outputs": [
    {
     "data": {
      "text/plain": [
       "['This', 'is', 'another', 'example']"
      ]
     },
     "execution_count": 18,
     "metadata": {},
     "output_type": "execute_result"
    }
   ],
   "source": [
    "\"This is another example\".split()  # turns a string in to a list of  strings "
   ]
  },
  {
   "cell_type": "code",
   "execution_count": 19,
   "metadata": {},
   "outputs": [
    {
     "name": "stdout",
     "output_type": "stream",
     "text": [
      "USB\n",
      "LAN\n",
      "OS\n"
     ]
    }
   ],
   "source": [
    "def initials(phrase):\n",
    "    words = phrase.split()\n",
    "    result = \"\"\n",
    "    for word in words:\n",
    "        result += word[0]\n",
    "    return result.upper()\n",
    "\n",
    "print(initials(\"Universal Serial Bus\")) # Should be: USB\n",
    "print(initials(\"local area network\")) # Should be: LAN\n",
    "print(initials(\"Operating system\")) # Should be: OS"
   ]
  },
  {
   "cell_type": "markdown",
   "metadata": {},
   "source": [
    "### Advanced String Methods\n",
    "\n",
    "We've covered a bunch of String class methods already, so let's keep building on those and run down some more advanced methods.\n",
    "\n",
    "The string method lower will return the string with all characters changed to lowercase. The inverse of this is the upper method, which will return the string all in uppercase. Just like with previous methods, we call these on a string using dot notation, like \"this is a string\".upper(). This would return the string \"THIS IS A STRING\". This can be super handy when checking user input, since someone might type in all lowercase, all uppercase, or even a mixture of cases.\n",
    "\n",
    "You can use the strip method to remove surrounding whitespace from a string. Whitespace includes spaces, tabs, and newline characters. You can also use the methods  lstrip and rstrip to remove whitespace only from the left or the right side of the string, respectively.\n",
    "\n",
    "The method count can be used to return the number of times a substring appears in a string. This can be handy for finding out how many characters appear in a string, or counting the number of times a certain word appears in a sentence or paragraph.\n",
    "\n",
    "If you wanted to check if a string ends with a given substring, you can use the method endswith. This will return True if the substring is found at the end of the string, and False if not.\n",
    "\n",
    "The isnumeric method can check if a string is composed of only numbers. If the string contains only numbers, this method will return True. We can use this to check if a string contains numbers before passing the string to the int() function to convert it to an integer, avoiding an error. Useful!\n",
    "\n",
    "We took a look at string concatenation using the plus sign, earlier. We can also use the join method to concatenate strings. This method is called on a string that will be used to join a list of strings. The method takes a list of strings to be joined as a parameter, and returns a new string composed of each of the strings from our list joined using the initial string. For example, \" \".join([\"This\",\"is\",\"a\",\"sentence\"]) would return the string \"This is a sentence\".\n",
    "\n",
    "The inverse of the join method is the split method. This allows us to split a string into a list of strings. By default, it splits by any whitespace characters. You can also split by any other characters by passing a parameter."
   ]
  },
  {
   "cell_type": "code",
   "execution_count": 4,
   "metadata": {},
   "outputs": [
    {
     "name": "stdout",
     "output_type": "stream",
     "text": [
      "Hello Manny, your lucky number is 15\n"
     ]
    }
   ],
   "source": [
    "# Formatting Strings\n",
    "name = \"Manny\"\n",
    "number = len(name) * 3\n",
    "print(\"Hello {}, your lucky number is {}\".format(name, number))\n"
   ]
  },
  {
   "cell_type": "code",
   "execution_count": 5,
   "metadata": {},
   "outputs": [
    {
     "name": "stdout",
     "output_type": "stream",
     "text": [
      "Your lucky numberr is 15, Manny.\n"
     ]
    }
   ],
   "source": [
    "print(\"Your lucky numberr is {number}, {name}.\".format(name=name, number=len(name)*3))"
   ]
  },
  {
   "cell_type": "code",
   "execution_count": 6,
   "metadata": {},
   "outputs": [
    {
     "name": "stdout",
     "output_type": "stream",
     "text": [
      "Reed received 80% on the exam.\n",
      "Paige received 92% on the exam.\n",
      "Jesse received 85% on the exam.\n"
     ]
    }
   ],
   "source": [
    "def student_grade(name, grade):\n",
    "    return \"{name} received {grade}% on the exam.\".format(name=name, grade=grade)\n",
    "\n",
    "print(student_grade(\"Reed\", 80))\n",
    "print(student_grade(\"Paige\", 92))\n",
    "print(student_grade(\"Jesse\", 85))"
   ]
  },
  {
   "cell_type": "code",
   "execution_count": 7,
   "metadata": {},
   "outputs": [
    {
     "name": "stdout",
     "output_type": "stream",
     "text": [
      "7.5 8.175\n"
     ]
    }
   ],
   "source": [
    "price = 7.5\n",
    "with_tax = price * 1.09\n",
    "print(price, with_tax)"
   ]
  },
  {
   "cell_type": "code",
   "execution_count": 8,
   "metadata": {},
   "outputs": [
    {
     "name": "stdout",
     "output_type": "stream",
     "text": [
      "Base price: $7.50. With tax: $8.18\n"
     ]
    }
   ],
   "source": [
    "# this code has what is called a formating exprestion {:.2f}  so the .2f is called a Float number \n",
    "\n",
    "print('Base price: ${:.2f}. With tax: ${:.2f}'.format(price, with_tax)) "
   ]
  },
  {
   "cell_type": "code",
   "execution_count": 10,
   "metadata": {},
   "outputs": [
    {
     "name": "stdout",
     "output_type": "stream",
     "text": [
      "  0 F | -17.78C\n",
      " 10 F | -12.22C\n",
      " 20 F |  -6.67C\n",
      " 30 F |  -1.11C\n",
      " 40 F |   4.44C\n",
      " 50 F |  10.00C\n",
      " 60 F |  15.56C\n",
      " 70 F |  21.11C\n",
      " 80 F |  26.67C\n",
      " 90 F |  32.22C\n",
      "100 F |  37.78C\n"
     ]
    }
   ],
   "source": [
    "def to_celsius(x):\n",
    "    return (x-32)*5/9\n",
    "\n",
    "for x in range(0,101,10):\n",
    "    print(\"{:>3} F | {:>6.2f}C\".format(x, to_celsius(x)))"
   ]
  },
  {
   "cell_type": "markdown",
   "metadata": {},
   "source": [
    "##  String Formatting\n",
    "\n",
    "\n",
    "You can use the format method on strings to concatenate and format strings in all kinds of powerful ways. To do this, create a string containing curly brackets, {}, as a placeholder, to be replaced. Then call the format method on the string using .format() and pass variables as parameters. The variables passed to the method will then be used to replace the curly bracket placeholders. This method automatically handles any conversion between data types for us. \n",
    "\n",
    "If the curly brackets are empty, they’ll be populated with the variables passed in the order in which they're passed. However, you can put certain expressions inside the curly brackets to do even more powerful string formatting operations. You can put the name of a variable into the curly brackets, then use the names in the parameters. This allows for more easily readable code, and for more flexibility with the order of variables.\n",
    "\n",
    "You can also put a formatting expression inside the curly brackets, which lets you alter the way the string is formatted. For example, the formatting expression {:.2f} means that you’d format this as a float number, with two digits after the decimal dot. The colon acts as a separator from the field name, if you had specified one. You can also specify text alignment using the greater than operator: >. For example, the expression {:>3.2f} would align the text three spaces to the right, as well as specify a float number with two decimal places. String formatting can be very handy for outputting easy-to-read textual output."
   ]
  },
  {
   "cell_type": "markdown",
   "metadata": {},
   "source": [
    "## String Reference Cheat Sheet\n",
    "## String Reference Cheat Sheet\n",
    "In Python, there are a lot of things you can do with strings. In this cheat sheet, you’ll find the most common string operations and string methods.\n",
    "\n",
    "String operations\n",
    "len(string) Returns the length of the string\n",
    "\n",
    "for character in string Iterates over each character in the string\n",
    "\n",
    "if substring in string Checks whether the substring is part of the string\n",
    "\n",
    "string[i] Accesses the character at index i of the string, starting at zero\n",
    "\n",
    "string[i:j] Accesses the substring starting at index i, ending at index j-1. If i is omitted, it's 0 by default. If j is omitted, it's len(string) by default.\n",
    "\n",
    "String methods\n",
    "string.lower() / string.upper() Returns a copy of the string with all lower / upper case characters\n",
    "\n",
    "string.lstrip() / string.rstrip() / string.strip() Returns a copy of the string without left / right / left or right whitespace\n",
    "\n",
    "string.count(substring) Returns the number of times substring is present in the string\n",
    "\n",
    "string.isnumeric() Returns True if there are only numeric characters in the string. If not, returns False.\n",
    "\n",
    "string.isalpha() Returns True if there are only alphabetic characters in the string. If not, returns False.\n",
    "\n",
    "string.split() / string.split(delimiter) Returns a list of substrings that were separated by whitespace / delimiter\n",
    "\n",
    "string.replace(old, new) Returns a new string where all occurrences of old have been replaced by new.\n",
    "\n",
    "delimiter.join(list of strings) Returns a new string with all the strings joined by the delimiter \n",
    "\n",
    "Check out the official documentation for all available String methods.  "
   ]
  },
  {
   "cell_type": "markdown",
   "metadata": {},
   "source": [
    "## Formatting Strings Cheat Sheet\n",
    "## Formatting Strings Cheat Sheet\n",
    "\n",
    "Python offers different ways to format strings. In the video, we explained the format() method. In this reading, we'll highlight three different ways of formatting strings. For this course you only need to know the format() method. But on the internet, you might find any of the three, so it's a good idea to know that the others exist.\n",
    "\n",
    "Using the format() method\n",
    "The format method returns a copy of the string where the {} placeholders have been replaced with the values of the variables. These variables are converted to strings if they weren't strings already. Empty placeholders are replaced by the variables passed to format in the same order."
   ]
  },
  {
   "cell_type": "code",
   "execution_count": 11,
   "metadata": {},
   "outputs": [
    {
     "name": "stdout",
     "output_type": "stream",
     "text": [
      "this is an example of using the format() method on a string\n"
     ]
    },
    {
     "data": {
      "text/plain": [
       "'Outputs:\\nthis is an example of using the format() method on a string\\n'"
      ]
     },
     "execution_count": 11,
     "metadata": {},
     "output_type": "execute_result"
    }
   ],
   "source": [
    "# \"base string with {} placeholders\".format(variables)\n",
    "\n",
    "example = \"format() method\"\n",
    "\n",
    "formatted_string = \"this is an example of using the {} on a string\".format(example)\n",
    "\n",
    "print(formatted_string)\n",
    "\n",
    "\"\"\"Outputs:\n",
    "this is an example of using the format() method on a string\n",
    "\"\"\""
   ]
  },
  {
   "cell_type": "code",
   "execution_count": 12,
   "metadata": {},
   "outputs": [
    {
     "name": "stdout",
     "output_type": "stream",
     "text": [
      "apple carrot banana\n"
     ]
    },
    {
     "data": {
      "text/plain": [
       "'Outputs:\\napple carrot banana\\n'"
      ]
     },
     "execution_count": 12,
     "metadata": {},
     "output_type": "execute_result"
    }
   ],
   "source": [
    "# If the placeholders indicate a number, they’re replaced by the variable corresponding to that order (starting at zero)\n",
    "\n",
    "\n",
    "# \"{0} {1}\".format(first, second)\n",
    "\n",
    "first = \"apple\"\n",
    "second = \"banana\"\n",
    "third = \"carrot\"\n",
    "\n",
    "formatted_string = \"{0} {2} {1}\".format(first, second, third)\n",
    "\n",
    "print(formatted_string)\n",
    "\n",
    "\"\"\"Outputs:\n",
    "apple carrot banana\n",
    "\"\"\""
   ]
  },
  {
   "cell_type": "markdown",
   "metadata": {},
   "source": [
    "If the placeholders indicate a field name, they’re replaced by the variable corresponding to that field name. This means that parameters to format need to be passed indicating the field name.\n",
    "\n",
    "\"{var1} {var2}\".format(var1=value1, var2=value2)\n",
    "\n",
    "\"{:exp1} {:exp2}\".format(value1, value2)"
   ]
  },
  {
   "cell_type": "markdown",
   "metadata": {},
   "source": [
    " If the placeholders include a colon, what comes after the colon is a formatting expression. See below for the expression reference.\n",
    " \n",
    " \n",
    " {:d} integer value\n",
    "'{:d}'.format(10.5) → '10'"
   ]
  },
  {
   "cell_type": "markdown",
   "metadata": {},
   "source": [
    "Formatting expressions\n",
    "\n",
    "\n",
    ":d}  integer value  '{:d}'.format(10.5) → '10'\n",
    "\n",
    "{:.2f}  floating point with that many decimals  '{:.2f}'.format(0.5) → '0.50'\n",
    "\n",
    "{:.2s} string with that many characters '{:.2s}'.format('Python') → 'Py'\n",
    "\n",
    "{:<6s} string aligned to the left that many spaces  '{:<6s}'.format('Py') → 'Py    '\n",
    "\n",
    "{:>6s}  string aligned to the right that many spaces  '{:>6s}'.format('Py') → '    Py'\n",
    "\n",
    "{:^6s}  string centered in that many spaces '{:^6s}'.format('Py') → '  Py  '\n",
    "\n",
    "\n",
    "\n",
    " Check out the official documentation for all available expressions.\n",
    "\n",
    "Old string formatting (Optional)\n",
    "The format() method was introduced in Python 2.6. Before that, the % (modulo) operator could be used to get a similar result. While this method is no longer recommended for new code, you might come across it in someone else's code. This is what it looks like:\n",
    "\n",
    " \"base string with %s placeholder\" % variable\n",
    "\n",
    "The % (modulo) operator returns a copy of the string where the placeholders indicated by %  followed by a formatting expression are replaced by the variables after the operator.\n",
    "\n",
    " \"base string with %d and %d placeholders\" % (value1, value2)\n",
    "\n",
    "To replace more than one value, the values need to be written between parentheses. The formatting expression needs to match the value type.\n",
    "\n",
    " \n",
    "\n",
    "\"%(var1) %(var2)\" % {var1:value1, var2:value2}\n",
    "\n",
    "Variables can be replaced by name using a dictionary syntax (we’ll learn about dictionaries in an upcoming video).\n",
    "\n",
    " \n",
    "\n",
    "\"Item: %s - Amount: %d - Price: %.2f\" % (item, amount, price)\n",
    "\n",
    "The formatting expressions are mostly the same as those of the format() method. \n",
    "\n",
    "Check out the official documentation for old string formatting.\n",
    "\n",
    "Formatted string literals (Optional)\n",
    "This feature was added in Python 3.6 and isn’t used a lot yet. Again, it's included here in case you run into it in the future, but it's not needed for this or any upcoming courses.\n",
    "\n",
    "A formatted string literal or f-string is a string that starts with 'f' or 'F' before the quotes. These strings might contain {} placeholders using expressions like the ones used for format method strings.\n",
    "\n",
    "The important difference with the format method is that it takes the value of the variables from the current context, instead of taking the values from parameters.\n",
    "\n",
    " Examples:\n",
    "\n",
    ">>> name = \"Micah\"\n",
    "\n",
    ">>> print(f'Hello {name}')\n",
    "\n",
    "Hello Micah\n",
    "\n",
    " \n",
    "\n",
    ">>> item = \"Purple Cup\"\n",
    "\n",
    ">>> amount = 5\n",
    "\n",
    ">>> price = amount * 3.25\n",
    "\n",
    ">>> print(f'Item: {item} - Amount: {amount} - Price: {price:.2f}')\n",
    "\n",
    "Item: Purple Cup - Amount: 5 - Price: 16.25\n",
    "\n",
    " Check out the official documentation for f-strings."
   ]
  },
  {
   "cell_type": "code",
   "execution_count": 13,
   "metadata": {},
   "outputs": [
    {
     "name": "stdout",
     "output_type": "stream",
     "text": [
      "Rain\n"
     ]
    }
   ],
   "source": [
    "Weather = \"Rainfall\"\n",
    "print(Weather[:4])"
   ]
  },
  {
   "cell_type": "code",
   "execution_count": 14,
   "metadata": {},
   "outputs": [
    {
     "name": "stdout",
     "output_type": "stream",
     "text": [
      "fall\n"
     ]
    }
   ],
   "source": [
    "\n",
    "print(Weather[4:])"
   ]
  },
  {
   "cell_type": "markdown",
   "metadata": {},
   "source": [
    "# list data type \n",
    "\n"
   ]
  },
  {
   "cell_type": "code",
   "execution_count": 1,
   "metadata": {},
   "outputs": [
    {
     "data": {
      "text/plain": [
       "list"
      ]
     },
     "execution_count": 1,
     "metadata": {},
     "output_type": "execute_result"
    }
   ],
   "source": [
    "x = [\"Now\", \"we\" , \"are\", \"cooking!\"]\n",
    "\n",
    "type(x)"
   ]
  },
  {
   "cell_type": "code",
   "execution_count": 2,
   "metadata": {},
   "outputs": [
    {
     "name": "stdout",
     "output_type": "stream",
     "text": [
      "['Now', 'we', 'are', 'cooking!']\n"
     ]
    }
   ],
   "source": [
    "print(x)"
   ]
  },
  {
   "cell_type": "code",
   "execution_count": 3,
   "metadata": {},
   "outputs": [
    {
     "data": {
      "text/plain": [
       "4"
      ]
     },
     "execution_count": 3,
     "metadata": {},
     "output_type": "execute_result"
    }
   ],
   "source": [
    "len(x)"
   ]
  },
  {
   "cell_type": "code",
   "execution_count": 4,
   "metadata": {},
   "outputs": [
    {
     "data": {
      "text/plain": [
       "True"
      ]
     },
     "execution_count": 4,
     "metadata": {},
     "output_type": "execute_result"
    }
   ],
   "source": [
    "# key word IN tell if a sertion elemet in in the list \n",
    "\n",
    "\"are\" in x"
   ]
  },
  {
   "cell_type": "code",
   "execution_count": 5,
   "metadata": {},
   "outputs": [
    {
     "data": {
      "text/plain": [
       "False"
      ]
     },
     "execution_count": 5,
     "metadata": {},
     "output_type": "execute_result"
    }
   ],
   "source": [
    "\"Today\" in x"
   ]
  },
  {
   "cell_type": "code",
   "execution_count": 6,
   "metadata": {},
   "outputs": [
    {
     "name": "stdout",
     "output_type": "stream",
     "text": [
      "Now\n"
     ]
    }
   ],
   "source": [
    "# can use indexing to call certion itoms in the list \n",
    "print(x[0])"
   ]
  },
  {
   "cell_type": "code",
   "execution_count": 7,
   "metadata": {},
   "outputs": [
    {
     "name": "stdout",
     "output_type": "stream",
     "text": [
      "cooking!\n"
     ]
    }
   ],
   "source": [
    "print(x[3])"
   ]
  },
  {
   "cell_type": "code",
   "execution_count": 8,
   "metadata": {},
   "outputs": [
    {
     "data": {
      "text/plain": [
       "['we', 'are']"
      ]
     },
     "execution_count": 8,
     "metadata": {},
     "output_type": "execute_result"
    }
   ],
   "source": [
    "# also use index to create slices of the list \n",
    "x[1:3]"
   ]
  },
  {
   "cell_type": "code",
   "execution_count": 9,
   "metadata": {},
   "outputs": [
    {
     "data": {
      "text/plain": [
       "['Now', 'we']"
      ]
     },
     "execution_count": 9,
     "metadata": {},
     "output_type": "execute_result"
    }
   ],
   "source": [
    "x[:2]"
   ]
  },
  {
   "cell_type": "code",
   "execution_count": 10,
   "metadata": {},
   "outputs": [
    {
     "data": {
      "text/plain": [
       "['are', 'cooking!']"
      ]
     },
     "execution_count": 10,
     "metadata": {},
     "output_type": "execute_result"
    }
   ],
   "source": [
    "x[2:]"
   ]
  },
  {
   "cell_type": "code",
   "execution_count": 32,
   "metadata": {},
   "outputs": [
    {
     "data": {
      "text/plain": [
       "6"
      ]
     },
     "execution_count": 32,
     "metadata": {},
     "output_type": "execute_result"
    }
   ],
   "source": [
    "test = \"This is a lesson about lists\"\n",
    "len(test.split())\n"
   ]
  },
  {
   "cell_type": "code",
   "execution_count": 34,
   "metadata": {},
   "outputs": [
    {
     "name": "stdout",
     "output_type": "stream",
     "text": [
      "lesson\n",
      "\n",
      "Now\n",
      "\n"
     ]
    }
   ],
   "source": [
    "def get_word(sentence, n):\n",
    "\t# Only proceed if n is positive \n",
    "\tif n > 0:\n",
    "\t\twords = sentence.split()\n",
    "\t\t# Only proceed if n is not more than the number of words \n",
    "\t\tif n <= len(words):\n",
    "\t\t\treturn(words[n-1])\n",
    "\treturn(\"\")\n",
    "\n",
    "print(get_word(\"This is a lesson about lists\", 4)) # Should print: lesson\n",
    "print(get_word(\"This is a lesson about lists\", -4)) # Nothing\n",
    "print(get_word(\"Now we are cooking!\", 1)) # Should print: Now\n",
    "print(get_word(\"Now we are cooking!\", 5)) # Nothing\n"
   ]
  },
  {
   "cell_type": "markdown",
   "metadata": {},
   "source": [
    "# Lists Defined\n",
    "\n",
    "Lists in Python are defined using square brackets, with the elements stored in the list separated by commas: list = [\"This\", \"is\", \"a\", \"list\"]. You can use the len() function to return the number of elements in a list: len(list) would return 4. You can also use the in keyword to check if a list contains a certain element. If the element is present, it will return a True boolean. If the element is not found in the list, it will return False. For example, \"This\" in list would return True in our example. Similar to strings, lists can also use indexing to access specific elements in a list based on their position. You can access the first element in a list by doing list[0], which would allow you to access the string \"This\".\n",
    "\n",
    "In Python, lists and strings are quite similar. They’re both examples of sequences of data. Sequences have similar properties, like (1) being able to iterate over them using for loops; (2) support indexing; (3) using the len function to find the length of the sequence; (4) using the plus operator + in order to concatenate; and (5) using the in keyword to check if the sequence contains a value. Understanding these concepts allows you to apply them to other sequence types as well."
   ]
  },
  {
   "cell_type": "code",
   "execution_count": 35,
   "metadata": {},
   "outputs": [],
   "source": [
    "# append methid\n",
    "fruits = [\"Pineapple\", \"Banana\", \"Apple\", \"Melon\"]\n",
    "fruits.append(\"Kiwi\")\n"
   ]
  },
  {
   "cell_type": "code",
   "execution_count": 36,
   "metadata": {},
   "outputs": [
    {
     "name": "stdout",
     "output_type": "stream",
     "text": [
      "['Pineapple', 'Banana', 'Apple', 'Melon', 'Kiwi']\n"
     ]
    }
   ],
   "source": [
    "print(fruits)"
   ]
  },
  {
   "cell_type": "code",
   "execution_count": 37,
   "metadata": {},
   "outputs": [],
   "source": [
    "# insert method \n",
    "fruits.insert(0, \"Orange\")"
   ]
  },
  {
   "cell_type": "code",
   "execution_count": 38,
   "metadata": {},
   "outputs": [
    {
     "name": "stdout",
     "output_type": "stream",
     "text": [
      "['Orange', 'Pineapple', 'Banana', 'Apple', 'Melon', 'Kiwi']\n"
     ]
    }
   ],
   "source": [
    "print(fruits)"
   ]
  },
  {
   "cell_type": "code",
   "execution_count": 39,
   "metadata": {},
   "outputs": [],
   "source": [
    "# remove method\n",
    "fruits.remove(\"Melon\")"
   ]
  },
  {
   "cell_type": "code",
   "execution_count": 40,
   "metadata": {},
   "outputs": [
    {
     "name": "stdout",
     "output_type": "stream",
     "text": [
      "['Orange', 'Pineapple', 'Banana', 'Apple', 'Kiwi']\n"
     ]
    }
   ],
   "source": [
    "print(fruits)"
   ]
  },
  {
   "cell_type": "code",
   "execution_count": 42,
   "metadata": {},
   "outputs": [
    {
     "data": {
      "text/plain": [
       "'Kiwi'"
      ]
     },
     "execution_count": 42,
     "metadata": {},
     "output_type": "execute_result"
    }
   ],
   "source": [
    "# pop method uses index\n",
    "fruits.pop(3)\n"
   ]
  },
  {
   "cell_type": "code",
   "execution_count": 43,
   "metadata": {},
   "outputs": [
    {
     "name": "stdout",
     "output_type": "stream",
     "text": [
      "['Orange', 'Pineapple', 'Banana']\n"
     ]
    }
   ],
   "source": [
    "print(fruits)"
   ]
  },
  {
   "cell_type": "code",
   "execution_count": 44,
   "metadata": {},
   "outputs": [],
   "source": [
    "fruits[2] = \"Strawberry\""
   ]
  },
  {
   "cell_type": "code",
   "execution_count": 45,
   "metadata": {},
   "outputs": [
    {
     "name": "stdout",
     "output_type": "stream",
     "text": [
      "['Orange', 'Pineapple', 'Strawberry']\n"
     ]
    }
   ],
   "source": [
    "print(fruits)"
   ]
  },
  {
   "cell_type": "code",
   "execution_count": 46,
   "metadata": {},
   "outputs": [
    {
     "name": "stdout",
     "output_type": "stream",
     "text": [
      "['a', 'c', 'e', 'g']\n",
      "['Orange', 'Strawberry', 'Peach']\n",
      "[]\n"
     ]
    }
   ],
   "source": [
    "def skip_elements(elements):\n",
    "  # Initialize variables\n",
    "  new_list = []\n",
    "  i = 0\n",
    "\n",
    "  # Iterate through the list by value and not index\n",
    "  for element in elements:\n",
    "      # Does this element belong in the resulting list? Check on index\n",
    "      if i % 2 == 0:\n",
    "          # Add this element to the resulting list\n",
    "          new_list.append(element)\n",
    "      # Increment index\n",
    "      i += 1\n",
    "\n",
    "  return new_list\n",
    "\n",
    "\n",
    "\n",
    "\n",
    "print(skip_elements([\"a\", \"b\", \"c\", \"d\", \"e\", \"f\", \"g\"])) # Should be ['a', 'c', 'e', 'g']\n",
    "print(skip_elements(['Orange', 'Pineapple', 'Strawberry', 'Kiwi', 'Peach'])) # Should be ['Orange', 'Strawberry', 'Peach']\n",
    "print(skip_elements([])) # Should be []\n"
   ]
  },
  {
   "cell_type": "markdown",
   "metadata": {},
   "source": [
    "# Modifying Lists\n",
    "While lists and strings are both sequences, a big difference between them is that lists are mutable. This means that the contents of the list can be changed, unlike strings, which are immutable. You can add, remove, or modify elements in a list.\n",
    "\n",
    "You can add elements to the end of a list using the append method. You call this method on a list using dot notation, and pass in the element to be added as a parameter. For example, list.append(\"New data\") would add the string \"New data\" to the end of the list called list.\n",
    "\n",
    "If you want to add an element to a list in a specific position, you can use the method insert. The method takes two parameters: the first specifies the index in the list, and the second is the element to be added to the list. So list.insert(0, \"New data\") would add the string \"New data\" to the front of the list. This wouldn't overwrite the existing element at the start of the list. It would just shift all the other elements by one. If you specify an index that’s larger than the length of the list, the element will simply be added to the end of the list.\n",
    "\n",
    "You can remove elements from the list using the remove method. This method takes an element as a parameter, and removes the first occurrence of the element. If the element isn’t found in the list, you’ll get a ValueError error explaining that the element was not found in the list.\n",
    "\n",
    "You can also remove elements from a list using the pop method. This method differs from the remove method in that it takes an index as a parameter, and returns the element that was removed. This can be useful if you don't know what the value is, but you know where it’s located. This can also be useful when you need to access the data and also want to remove it from the list.\n",
    "\n",
    "Finally, you can change an element in a list by using indexing to overwrite the value stored at the specified index. For example, you can enter list[0] = \"Old data\" to overwrite the first element in a list with the new string \"Old data\"."
   ]
  },
  {
   "cell_type": "code",
   "execution_count": null,
   "metadata": {},
   "outputs": [],
   "source": []
  },
  {
   "cell_type": "code",
   "execution_count": null,
   "metadata": {},
   "outputs": [],
   "source": []
  },
  {
   "cell_type": "code",
   "execution_count": null,
   "metadata": {},
   "outputs": [],
   "source": []
  },
  {
   "cell_type": "code",
   "execution_count": null,
   "metadata": {},
   "outputs": [],
   "source": []
  },
  {
   "cell_type": "code",
   "execution_count": null,
   "metadata": {},
   "outputs": [],
   "source": []
  },
  {
   "cell_type": "code",
   "execution_count": null,
   "metadata": {},
   "outputs": [],
   "source": []
  },
  {
   "cell_type": "markdown",
   "metadata": {},
   "source": [
    "# Tuples\n",
    "As we mentioned earlier, strings and lists are both examples of sequences. Strings are sequences of characters, and are immutable. Lists are sequences of elements of any data type, and are mutable. The third sequence type is the tuple. Tuples are like lists, since they can contain elements of any data type. But unlike lists, tuples are immutable. They’re specified using parentheses instead of square brackets.\n",
    "\n",
    "You might be wondering why tuples are a thing, given how similar they are to lists. Tuples can be useful when we need to ensure that an element is in a certain position and will not change. Since lists are mutable, the order of the elements can be changed on us. Since the order of the elements in a tuple can't be changed, the position of the element in a tuple can have meaning. A good example of this is when a function returns multiple values. In this case, what gets returned is a tuple, with the return values as elements in the tuple. The order of the returned values is important, and a tuple ensures that the order isn’t going to change. Storing the elements of a tuple in separate variables is called unpacking. This allows you to take multiple returned values from a function and store each value in its own variable."
   ]
  },
  {
   "cell_type": "code",
   "execution_count": null,
   "metadata": {},
   "outputs": [],
   "source": []
  },
  {
   "cell_type": "code",
   "execution_count": null,
   "metadata": {},
   "outputs": [],
   "source": []
  },
  {
   "cell_type": "code",
   "execution_count": null,
   "metadata": {},
   "outputs": [],
   "source": []
  },
  {
   "cell_type": "code",
   "execution_count": null,
   "metadata": {},
   "outputs": [],
   "source": []
  },
  {
   "cell_type": "code",
   "execution_count": null,
   "metadata": {},
   "outputs": [],
   "source": []
  },
  {
   "cell_type": "markdown",
   "metadata": {},
   "source": [
    "# Iterating Over Lists Using Enumerate\n",
    "When we covered for loops, we showed the example of iterating over a list. This lets you iterate over each element in the list, exposing the element to the for loop as a variable. But what if you want to access the elements in a list, along with the index of the element in question? You can do this using the enumerate() function. The enumerate() function takes a list as a parameter and returns a tuple for each element in the list. The first value of the tuple is the index and the second value is the element itself."
   ]
  },
  {
   "cell_type": "code",
   "execution_count": null,
   "metadata": {},
   "outputs": [],
   "source": []
  },
  {
   "cell_type": "code",
   "execution_count": null,
   "metadata": {},
   "outputs": [],
   "source": []
  },
  {
   "cell_type": "code",
   "execution_count": null,
   "metadata": {},
   "outputs": [],
   "source": []
  },
  {
   "cell_type": "code",
   "execution_count": null,
   "metadata": {},
   "outputs": [],
   "source": []
  },
  {
   "cell_type": "code",
   "execution_count": null,
   "metadata": {},
   "outputs": [],
   "source": []
  },
  {
   "cell_type": "code",
   "execution_count": null,
   "metadata": {},
   "outputs": [],
   "source": []
  },
  {
   "cell_type": "markdown",
   "metadata": {},
   "source": [
    "# List Comprehensions\n",
    "You can create lists from sequences using a for loop, but there’s a more streamlined way to do this: list comprehension. List comprehensions allow you to create a new list from a sequence or a range in a single line.\n",
    "\n",
    "For example, [ x*2 for x in range(1,11) ] is a simple list comprehension. This would iterate over the range 1 to 10, and multiply each element in the range by 2. This would result in a list of the multiples of 2, from 2 to 20.\n",
    "\n",
    "You can also use conditionals with list comprehensions to build even more complex and powerful statements. You can do this by appending an if statement to the end of the comprehension. For example, [ x for x in range(1,101) if x % 10 == 0 ] would generate a list containing all the integers divisible by 10 from 1 to 100. The if statement we added here evaluates each value in the range from 1 to 100 to check if it’s evenly divisible by 10. If it is, it gets added to the list.\n",
    "\n",
    "List comprehensions can be really powerful, but they can also be super complex, resulting in code that’s hard to read. Be careful when using them, since it might make it more difficult for someone else looking at your code to easily understand what the code is doing."
   ]
  },
  {
   "cell_type": "markdown",
   "metadata": {},
   "source": []
  },
  {
   "cell_type": "markdown",
   "metadata": {},
   "source": []
  },
  {
   "cell_type": "markdown",
   "metadata": {},
   "source": []
  },
  {
   "cell_type": "markdown",
   "metadata": {},
   "source": []
  },
  {
   "cell_type": "markdown",
   "metadata": {},
   "source": []
  },
  {
   "cell_type": "markdown",
   "metadata": {},
   "source": [
    "# Lists and Tuples Operations Cheat Sheet\n",
    "## Lists and Tuples Operations Cheat Sheet\n",
    "Lists and tuples are both sequences, so they share a number of sequence operations. But, because lists are mutable, there are also a number of methods specific just to lists. This cheat sheet gives you a run down of the common operations first, and the list-specific operations second.\n",
    "\n",
    "Common sequence operations\n",
    "len(sequence) Returns the length of the sequence\n",
    "\n",
    "for element in sequence Iterates over each element in the sequence\n",
    "\n",
    "if element in sequence Checks whether the element is part of the sequence\n",
    "\n",
    "sequence[i] Accesses the element at index i of the sequence, starting at zero\n",
    "\n",
    "sequence[i:j] Accesses a slice starting at index i, ending at index j-1. If i is omitted, it's 0 by default. If j is omitted, it's len(sequence) by default.\n",
    "\n",
    "for index, element in enumerate(sequence) Iterates over both the indexes and the elements in the sequence at the same time\n",
    "\n",
    " Check out the official documentation for sequence operations.\n",
    "\n",
    "List-specific operations and methods\n",
    "list[i] = x Replaces the element at index i with x\n",
    "\n",
    "list.append(x) Inserts x at the end of the list\n",
    "\n",
    "list.insert(i, x) Inserts x at index i\n",
    "\n",
    "list.pop(i) Returns the element a index i, also removing it from the list. If i is omitted, the last element is returned and removed.\n",
    "\n",
    "list.remove(x) Removes the first occurrence of x in the list\n",
    "\n",
    "list.sort() Sorts the items in the list\n",
    "\n",
    "list.reverse() Reverses the order of items of the list\n",
    "\n",
    "list.clear() Removes all the items of the list\n",
    "\n",
    "list.copy() Creates a copy of the list\n",
    "\n",
    "list.extend(other_list) Appends all the elements of other_list at the end of list\n",
    "\n",
    " Most of these methods come from the fact that lists are mutable sequences. For more info, see the official documentation for mutable sequences and the list specific documentation.\n",
    "\n",
    "List comprehension\n",
    "[expression for variable in sequence] Creates a new list based on the given sequence. Each element is the result of the given expression.\n",
    "\n",
    "[expression for variable in sequence if condition] Creates a new list based on the given sequence. Each element is the result of the given expression; elements only get added if the condition is true.  "
   ]
  }
 ],
 "metadata": {
  "interpreter": {
   "hash": "8656f5031db70faff7aded3bdfe4dbd6e4f3294b56caa8318c028c2777d29a21"
  },
  "kernelspec": {
   "display_name": "Python 3.8.12 ('base')",
   "language": "python",
   "name": "python3"
  },
  "language_info": {
   "codemirror_mode": {
    "name": "ipython",
    "version": 3
   },
   "file_extension": ".py",
   "mimetype": "text/x-python",
   "name": "python",
   "nbconvert_exporter": "python",
   "pygments_lexer": "ipython3",
   "version": "3.8.12"
  },
  "orig_nbformat": 4
 },
 "nbformat": 4,
 "nbformat_minor": 2
}

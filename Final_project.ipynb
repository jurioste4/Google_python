{
 "cells": [
  {
   "cell_type": "markdown",
   "metadata": {},
   "source": [
    "## Writing a Script from the Ground Up\n",
    "\n",
    "\n",
    "create a script that logs which user login to which compuer and when .. \n",
    "\n",
    "the in put is the : List of Events  and  each event is an insteance of the event class : \n",
    "\n",
    "##### Event class : \n",
    "Contains the date when the event happned , the name of the machine where it happneds  the user involved and the event type ; \n",
    "\n",
    "Event type : \n",
    "\n",
    "Login \n",
    "log out \n",
    "\n",
    "\n",
    "###### the attrabutes  we are looking at are : \n",
    "\n",
    "Date \n",
    "\n",
    "user \n",
    "macine \n",
    "type \n",
    "\n"
   ]
  },
  {
   "cell_type": "markdown",
   "metadata": {},
   "source": [
    "#####  output \n",
    "\n",
    "macine name \n",
    "users \n",
    "\n",
    "\n"
   ]
  },
  {
   "cell_type": "markdown",
   "metadata": {},
   "source": [
    "#### Research\n",
    "\n",
    "Need to know when a user login : and when they logout .. and if the user is still login and \n",
    "prossess them in cronalogcal order \n",
    "\n",
    "\n",
    "\n",
    "find  how to sort lists \n",
    "\n",
    "two types \n",
    "\n",
    "sort() --  changes the list it is exsacuted on \n",
    "sorted() ---- returns a new list that is been sorted \n",
    "\n",
    "\n"
   ]
  },
  {
   "cell_type": "code",
   "execution_count": 1,
   "metadata": {},
   "outputs": [],
   "source": [
    "numbers = [4,6,2,7,1]"
   ]
  },
  {
   "cell_type": "code",
   "execution_count": 2,
   "metadata": {},
   "outputs": [
    {
     "name": "stdout",
     "output_type": "stream",
     "text": [
      "[1, 2, 4, 6, 7]\n"
     ]
    }
   ],
   "source": [
    "numbers.sort()\n",
    "print(numbers)"
   ]
  },
  {
   "cell_type": "code",
   "execution_count": 4,
   "metadata": {},
   "outputs": [
    {
     "name": "stdout",
     "output_type": "stream",
     "text": [
      "['Carlos', 'Ray', 'Alex', 'Kelly']\n"
     ]
    }
   ],
   "source": [
    "names = [\"Carlos\" , \"Ray\", \"Alex\", \"Kelly\"]\n",
    "print(names)"
   ]
  },
  {
   "cell_type": "code",
   "execution_count": 5,
   "metadata": {},
   "outputs": [
    {
     "name": "stdout",
     "output_type": "stream",
     "text": [
      "['Alex', 'Carlos', 'Kelly', 'Ray']\n"
     ]
    }
   ],
   "source": [
    "print(sorted(names))"
   ]
  },
  {
   "cell_type": "code",
   "execution_count": 6,
   "metadata": {},
   "outputs": [
    {
     "name": "stdout",
     "output_type": "stream",
     "text": [
      "['Carlos', 'Ray', 'Alex', 'Kelly']\n"
     ]
    }
   ],
   "source": [
    "print(names)"
   ]
  },
  {
   "cell_type": "code",
   "execution_count": 7,
   "metadata": {},
   "outputs": [
    {
     "name": "stdout",
     "output_type": "stream",
     "text": [
      "['Ray', 'Alex', 'Kelly', 'Carlos']\n"
     ]
    }
   ],
   "source": [
    "print(sorted(names, key=len))"
   ]
  },
  {
   "cell_type": "markdown",
   "metadata": {},
   "source": [
    "#### Planning \n",
    "\n",
    "what we know : \n",
    "So we know that our input will be a list\n",
    "of events and we'll sort them by time.\n",
    "Each event in that list will include a machine name,\n",
    "a username, and tell us\n",
    "whether the event is a login or a logout\n",
    "\n",
    " we need to prossess that event .. and if a user login .. we need to add that user to the group of users that are login .. if it  is a log out then need to  remote the user from the group of users login .. \n",
    "\n",
    "\n",
    " use a SET\n",
    "\n"
   ]
  },
  {
   "cell_type": "code",
   "execution_count": 13,
   "metadata": {},
   "outputs": [],
   "source": [
    "# Writing the Script\n",
    "\n",
    "def get_event_date(event):\n",
    "    return event.date\n",
    "\n",
    "\n",
    "def current_users(events):\n",
    "    events.sort(key=get_event_date)\n",
    "    machines = {}\n",
    "    for event in events:\n",
    "        if event.machine not in machines:\n",
    "            machines[event.machine] = set()\n",
    "        if event.type == \"login\":\n",
    "            machines[event.machine].add(event.user)\n",
    "        elif event.type == \"logout\":\n",
    "            machines[event.machine].remove(event.user)\n",
    "    return machines\n",
    "\n",
    "\n",
    "def generate_report(machines):\n",
    "    for machine, users in machines.items():\n",
    "        if len(users) > 0:\n",
    "            user_list = \",\".join(users)\n",
    "            print(\"{}: {}\".format(machine, user_list))\n"
   ]
  },
  {
   "cell_type": "code",
   "execution_count": 4,
   "metadata": {},
   "outputs": [],
   "source": [
    "class Event:\n",
    "    def __init__(self, event_date, event_type, machine_name, user):\n",
    "        self.date = event_date\n",
    "        self.type = event_type\n",
    "        self.machine = machine_name\n",
    "        self.user = user\n"
   ]
  },
  {
   "cell_type": "code",
   "execution_count": 7,
   "metadata": {},
   "outputs": [],
   "source": [
    "events = [\n",
    "    Event('2020-01-21 12:45:56', 'login', 'myworkstation.local', 'jordan'),\n",
    "    Event('2020-01-22 15:53:42', 'logout', 'webserver.local', 'jordan'),\n",
    "    Event('2020-01-21 18:46:56', 'login', 'webserver.local', 'lane'),\n",
    "    Event('2020-01-22 10:25:42', 'logout', 'myworkstation.local', 'jordan'),\n",
    "    Event('2020-01-21 08:55:56', 'login', 'webserver.local', 'jordan'),\n",
    "    Event('2020-01-23 11:24:35', 'login', 'mailserver.local', 'Chris'),\n",
    "]\n"
   ]
  },
  {
   "cell_type": "code",
   "execution_count": 14,
   "metadata": {},
   "outputs": [
    {
     "name": "stdout",
     "output_type": "stream",
     "text": [
      "{'webserver.local': {'lane'}, 'myworkstation.local': set(), 'mailserver.local': {'Chris'}}\n"
     ]
    }
   ],
   "source": [
    "users = current_users(events)\n",
    "print(users)"
   ]
  },
  {
   "cell_type": "code",
   "execution_count": 15,
   "metadata": {},
   "outputs": [
    {
     "name": "stdout",
     "output_type": "stream",
     "text": [
      "webserver.local: lane\n",
      "mailserver.local: Chris\n"
     ]
    }
   ],
   "source": [
    "generate_report(users)"
   ]
  },
  {
   "cell_type": "code",
   "execution_count": null,
   "metadata": {},
   "outputs": [],
   "source": []
  }
 ],
 "metadata": {
  "interpreter": {
   "hash": "8656f5031db70faff7aded3bdfe4dbd6e4f3294b56caa8318c028c2777d29a21"
  },
  "kernelspec": {
   "display_name": "Python 3.8.12 ('base')",
   "language": "python",
   "name": "python3"
  },
  "language_info": {
   "codemirror_mode": {
    "name": "ipython",
    "version": 3
   },
   "file_extension": ".py",
   "mimetype": "text/x-python",
   "name": "python",
   "nbconvert_exporter": "python",
   "pygments_lexer": "ipython3",
   "version": "3.8.12"
  },
  "orig_nbformat": 4
 },
 "nbformat": 4,
 "nbformat_minor": 2
}
